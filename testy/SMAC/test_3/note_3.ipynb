{
 "cells": [
  {
   "cell_type": "markdown",
   "metadata": {},
   "source": [
    "<span style=\"font-size: 48px; font-weight: bold;\">Algorytm BOGP testowany na zbiorze NSL-KDD</span>"
   ]
  },
  {
   "cell_type": "markdown",
   "metadata": {},
   "source": [
    "Spis treści\n",
    "\n",
    "- [1](#1)- Zainstalowanie wymaganych pakietów\n",
    "- [2](#2) - Zaimportowanie bibliotek np.numpy, keras, skopt, tensorflow\n",
    "- [3](#3) - Załadowanie danych i normalizacja\n",
    "- [4](#4) - Ocena zbalansowania zbioru\n",
    "- [5](#5) - Wprowadzenie ważenia z powodu niezbalansowania zbioru, kategoryzacja etykiet\n",
    "- [6](#6)- Zdefiniowanie CNN\n",
    "- [7](#7) - Zdefiniowanie przestrzeni hiperparametrów i umieszczenie hiperparametrów na liście\n",
    "- [8](#8) - Zdefiniowa funkcji celu\n",
    "- [9](#9) - Zdefiniowanie defaltowych parametrów\n",
    "- [10](#10) - Wykonanie  optymalizacji bayesowskiej za pomocą funkcji \n",
    "- [11](#11) - Wyświetlenie najlepszych wyników\n",
    "- [12](#12) - Wykres konwergencji\n",
    "- [13](#13) - Wykres wartości funkcji celu w każdej iteracji\n",
    "- [14](#14) - Lista hiperparametrów dla kolejnych iteracji\n",
    "- [15](#15) - Wykres plot_objective\n"
   ]
  },
  {
   "cell_type": "markdown",
   "metadata": {},
   "source": [
    "### <a name='1'></a> 1. Zainstalowanie wymaganych pakietów"
   ]
  },
  {
   "cell_type": "code",
   "execution_count": 1,
   "metadata": {},
   "outputs": [],
   "source": [
    "# !pip install scikit-learn\n",
    "# !pip install scikit-optimize\n",
    "# !pip install keras\n",
    "# !pip install numpy\n",
    "#!pip install sklearn"
   ]
  },
  {
   "cell_type": "markdown",
   "metadata": {},
   "source": [
    "### <a name=\"2\"></a> 2. Zaimportowanie bibliotek np.numpy, keras, skopt, tensorflow"
   ]
  },
  {
   "cell_type": "code",
   "execution_count": 2,
   "metadata": {},
   "outputs": [],
   "source": [
    "import numpy as np\n",
    "import pandas as pd\n",
    "import matplotlib.pyplot as plt\n",
    "import seaborn as sns\n",
    "\n",
    "from sklearn.model_selection import train_test_split\n",
    "from sklearn.metrics import confusion_matrix\n",
    "\n",
    "from keras.utils import to_categorical\n",
    "from keras.models import Sequential, load_model\n",
    "from keras.layers import Dense, Dropout, Input, BatchNormalization\n",
    "from keras.optimizers import Adam\n",
    "from keras.callbacks import ReduceLROnPlateau, EarlyStopping\n",
    "\n",
    "from skopt import forest_minimize\n",
    "from skopt.space import Real, Categorical, Integer\n",
    "from skopt.plots import plot_convergence\n",
    "from skopt.plots import plot_objective, plot_evaluations\n",
    "from skopt.utils import use_named_args\n",
    "from tensorflow.keras.utils import to_categorical\n",
    "\n",
    "import tensorflow as tf\n",
    "import time\n",
    "from sklearn.preprocessing import Normalizer\n",
    "from sklearn.preprocessing import LabelEncoder\n",
    "\n",
    "from sklearn.model_selection import StratifiedKFold\n",
    "\n",
    "from sklearn.model_selection import train_test_split\n",
    "from sklearn.preprocessing import MinMaxScaler, LabelEncoder\n",
    "\n",
    "from sklearn.utils.class_weight import compute_class_weight\n",
    "\n"
   ]
  },
  {
   "cell_type": "markdown",
   "metadata": {},
   "source": [
    "### <a name=\"3\"></a> 3.Załadowanie danych i normalizacja\n"
   ]
  },
  {
   "cell_type": "code",
   "execution_count": 3,
   "metadata": {},
   "outputs": [],
   "source": [
    "\n",
    "\n",
    "# pliki z danymi\n",
    "train_file = \"KDDTrain+.txt\"\n",
    "test_file  = \"KDDTest+.txt\"\n",
    "\n",
    "# wczytanie danych\n",
    "train_data = pd.read_csv(train_file, header=None, sep=\",\")\n",
    "test_data  = pd.read_csv(test_file,  header=None, sep=\",\")\n",
    "\n",
    "# odrzucenie ostatniej kolumny (liczba wskazująca trudność klasyfikacji)\n",
    "train_data = train_data.iloc[:, :-1]\n",
    "test_data  = test_data.iloc[:, :-1]\n",
    "\n",
    "# Podział na cechy (X) i etykiety (y)\n",
    "X = train_data.iloc[:, :-1]  \n",
    "y = train_data.iloc[:, -1]   \n",
    "\n",
    "X_test = test_data.iloc[:, :-1]\n",
    "y_test = test_data.iloc[:, -1]\n",
    "\n",
    "#podział na zbiór walidacyjny i testowy\n",
    "X_train, X_val, y_train, y_val = train_test_split(\n",
    "    X, y, \n",
    "    test_size=0.2, \n",
    "    random_state=42, \n",
    "    stratify=y\n",
    ")\n",
    "\n",
    "# identyfikacja kolumn kategorycznych i numerycznych\n",
    "categorical_columns = X_train.select_dtypes(include=['object']).columns\n",
    "numerical_columns   = X_train.select_dtypes(exclude=['object']).columns\n",
    "\n",
    "# skalowanie cech numerycznych\n",
    "scaler = MinMaxScaler()\n",
    "\n",
    "# dopasowanie i transformacja tylko train:\n",
    "X_train[numerical_columns] = scaler.fit_transform(X_train[numerical_columns])\n",
    "# walidacja i zbiór testowy - transformacja\n",
    "X_val[numerical_columns]   = scaler.transform(X_val[numerical_columns])\n",
    "X_test[numerical_columns]  = scaler.transform(X_test[numerical_columns])\n",
    "\n",
    "# kodowanie kolumn kategorycznych\n",
    "label_encoders = {}\n",
    "\n",
    "for col in categorical_columns:\n",
    "    le = LabelEncoder()\n",
    "    \n",
    "    # dopasowanie tylko na kolumnie treningowej\n",
    "    X_train[col] = le.fit_transform(X_train[col])\n",
    "    \n",
    "    # transformacja walidacji\n",
    "    X_val[col] = X_val[col].map(lambda s: le.transform([s])[0] if s in le.classes_ else -1)\n",
    "    # Jeśli pojawiły się nowe wartości (=-1), rozszerzamy listę klas\n",
    "    le_classes = list(le.classes_)\n",
    "    if -1 in X_val[col].values:\n",
    "        if -1 not in le_classes:\n",
    "            le_classes.append(-1)\n",
    "        le.classes_ = np.array(le_classes)\n",
    "    # normalizacja do zakresu [0,1] (względem liczby klas)\n",
    "    X_val[col] = X_val[col] / (len(le.classes_) - 1)\n",
    "    \n",
    "    # transformacja testu:\n",
    "    X_test[col] = X_test[col].map(lambda s: le.transform([s])[0] if s in le.classes_ else -1)\n",
    "    if -1 in X_test[col].values:\n",
    "        if -1 not in le_classes:\n",
    "            le_classes.append(-1)\n",
    "        le.classes_ = np.array(le_classes)\n",
    "    X_test[col] = X_test[col] / (len(le.classes_) - 1)\n",
    "    \n",
    "    # na końcu normalizacja X_train \n",
    "    X_train[col] = X_train[col] / (len(le.classes_) - 1)\n",
    "    \n",
    "    # zapisanie encodera\n",
    "    label_encoders[col] = le\n",
    "\n",
    "# kodowanie etykiet\n",
    "label_encoder_y = LabelEncoder()\n",
    "y_train = label_encoder_y.fit_transform(y_train)\n",
    "\n",
    "# Walidacja\n",
    "y_val = y_val.map(lambda s: label_encoder_y.transform([s])[0] if s in label_encoder_y.classes_ else -1)\n",
    "# Test\n",
    "y_test = y_test.map(lambda s: label_encoder_y.transform([s])[0] if s in label_encoder_y.classes_ else -1)\n"
   ]
  },
  {
   "cell_type": "code",
   "execution_count": 4,
   "metadata": {},
   "outputs": [
    {
     "data": {
      "text/html": [
       "<div>\n",
       "<style scoped>\n",
       "    .dataframe tbody tr th:only-of-type {\n",
       "        vertical-align: middle;\n",
       "    }\n",
       "\n",
       "    .dataframe tbody tr th {\n",
       "        vertical-align: top;\n",
       "    }\n",
       "\n",
       "    .dataframe thead th {\n",
       "        text-align: right;\n",
       "    }\n",
       "</style>\n",
       "<table border=\"1\" class=\"dataframe\">\n",
       "  <thead>\n",
       "    <tr style=\"text-align: right;\">\n",
       "      <th></th>\n",
       "      <th>0</th>\n",
       "      <th>1</th>\n",
       "      <th>2</th>\n",
       "      <th>3</th>\n",
       "      <th>4</th>\n",
       "      <th>5</th>\n",
       "      <th>6</th>\n",
       "      <th>7</th>\n",
       "      <th>8</th>\n",
       "      <th>9</th>\n",
       "      <th>...</th>\n",
       "      <th>31</th>\n",
       "      <th>32</th>\n",
       "      <th>33</th>\n",
       "      <th>34</th>\n",
       "      <th>35</th>\n",
       "      <th>36</th>\n",
       "      <th>37</th>\n",
       "      <th>38</th>\n",
       "      <th>39</th>\n",
       "      <th>40</th>\n",
       "    </tr>\n",
       "  </thead>\n",
       "  <tbody>\n",
       "    <tr>\n",
       "      <th>count</th>\n",
       "      <td>100778.000000</td>\n",
       "      <td>100778.000000</td>\n",
       "      <td>100778.000000</td>\n",
       "      <td>100778.000000</td>\n",
       "      <td>1.007780e+05</td>\n",
       "      <td>1.007780e+05</td>\n",
       "      <td>100778.000000</td>\n",
       "      <td>100778.000000</td>\n",
       "      <td>100778.000000</td>\n",
       "      <td>100778.000000</td>\n",
       "      <td>...</td>\n",
       "      <td>100778.000000</td>\n",
       "      <td>100778.000000</td>\n",
       "      <td>100778.000000</td>\n",
       "      <td>100778.000000</td>\n",
       "      <td>100778.000000</td>\n",
       "      <td>100778.000000</td>\n",
       "      <td>100778.000000</td>\n",
       "      <td>100778.000000</td>\n",
       "      <td>100778.000000</td>\n",
       "      <td>100778.000000</td>\n",
       "    </tr>\n",
       "    <tr>\n",
       "      <th>mean</th>\n",
       "      <td>0.006665</td>\n",
       "      <td>0.526618</td>\n",
       "      <td>0.446962</td>\n",
       "      <td>0.698072</td>\n",
       "      <td>3.793482e-05</td>\n",
       "      <td>1.532717e-05</td>\n",
       "      <td>0.000198</td>\n",
       "      <td>0.007571</td>\n",
       "      <td>0.000040</td>\n",
       "      <td>0.002659</td>\n",
       "      <td>...</td>\n",
       "      <td>0.715022</td>\n",
       "      <td>0.453760</td>\n",
       "      <td>0.521310</td>\n",
       "      <td>0.083152</td>\n",
       "      <td>0.148470</td>\n",
       "      <td>0.032584</td>\n",
       "      <td>0.284380</td>\n",
       "      <td>0.278272</td>\n",
       "      <td>0.119008</td>\n",
       "      <td>0.120240</td>\n",
       "    </tr>\n",
       "    <tr>\n",
       "      <th>std</th>\n",
       "      <td>0.060309</td>\n",
       "      <td>0.213551</td>\n",
       "      <td>0.230640</td>\n",
       "      <td>0.268900</td>\n",
       "      <td>4.729777e-03</td>\n",
       "      <td>3.294335e-03</td>\n",
       "      <td>0.014086</td>\n",
       "      <td>0.084558</td>\n",
       "      <td>0.005144</td>\n",
       "      <td>0.027988</td>\n",
       "      <td>...</td>\n",
       "      <td>0.388767</td>\n",
       "      <td>0.434288</td>\n",
       "      <td>0.449156</td>\n",
       "      <td>0.189217</td>\n",
       "      <td>0.309445</td>\n",
       "      <td>0.112806</td>\n",
       "      <td>0.444741</td>\n",
       "      <td>0.445578</td>\n",
       "      <td>0.306821</td>\n",
       "      <td>0.319468</td>\n",
       "    </tr>\n",
       "    <tr>\n",
       "      <th>min</th>\n",
       "      <td>0.000000</td>\n",
       "      <td>0.000000</td>\n",
       "      <td>0.000000</td>\n",
       "      <td>0.000000</td>\n",
       "      <td>0.000000e+00</td>\n",
       "      <td>0.000000e+00</td>\n",
       "      <td>0.000000</td>\n",
       "      <td>0.000000</td>\n",
       "      <td>0.000000</td>\n",
       "      <td>0.000000</td>\n",
       "      <td>...</td>\n",
       "      <td>0.000000</td>\n",
       "      <td>0.000000</td>\n",
       "      <td>0.000000</td>\n",
       "      <td>0.000000</td>\n",
       "      <td>0.000000</td>\n",
       "      <td>0.000000</td>\n",
       "      <td>0.000000</td>\n",
       "      <td>0.000000</td>\n",
       "      <td>0.000000</td>\n",
       "      <td>0.000000</td>\n",
       "    </tr>\n",
       "    <tr>\n",
       "      <th>25%</th>\n",
       "      <td>0.000000</td>\n",
       "      <td>0.500000</td>\n",
       "      <td>0.289855</td>\n",
       "      <td>0.500000</td>\n",
       "      <td>0.000000e+00</td>\n",
       "      <td>0.000000e+00</td>\n",
       "      <td>0.000000</td>\n",
       "      <td>0.000000</td>\n",
       "      <td>0.000000</td>\n",
       "      <td>0.000000</td>\n",
       "      <td>...</td>\n",
       "      <td>0.321569</td>\n",
       "      <td>0.039216</td>\n",
       "      <td>0.050000</td>\n",
       "      <td>0.000000</td>\n",
       "      <td>0.000000</td>\n",
       "      <td>0.000000</td>\n",
       "      <td>0.000000</td>\n",
       "      <td>0.000000</td>\n",
       "      <td>0.000000</td>\n",
       "      <td>0.000000</td>\n",
       "    </tr>\n",
       "    <tr>\n",
       "      <th>50%</th>\n",
       "      <td>0.000000</td>\n",
       "      <td>0.500000</td>\n",
       "      <td>0.347826</td>\n",
       "      <td>0.900000</td>\n",
       "      <td>3.188489e-08</td>\n",
       "      <td>0.000000e+00</td>\n",
       "      <td>0.000000</td>\n",
       "      <td>0.000000</td>\n",
       "      <td>0.000000</td>\n",
       "      <td>0.000000</td>\n",
       "      <td>...</td>\n",
       "      <td>1.000000</td>\n",
       "      <td>0.247059</td>\n",
       "      <td>0.510000</td>\n",
       "      <td>0.020000</td>\n",
       "      <td>0.000000</td>\n",
       "      <td>0.000000</td>\n",
       "      <td>0.000000</td>\n",
       "      <td>0.000000</td>\n",
       "      <td>0.000000</td>\n",
       "      <td>0.000000</td>\n",
       "    </tr>\n",
       "    <tr>\n",
       "      <th>75%</th>\n",
       "      <td>0.000000</td>\n",
       "      <td>0.500000</td>\n",
       "      <td>0.695652</td>\n",
       "      <td>0.900000</td>\n",
       "      <td>2.000052e-07</td>\n",
       "      <td>3.984923e-07</td>\n",
       "      <td>0.000000</td>\n",
       "      <td>0.000000</td>\n",
       "      <td>0.000000</td>\n",
       "      <td>0.000000</td>\n",
       "      <td>...</td>\n",
       "      <td>1.000000</td>\n",
       "      <td>1.000000</td>\n",
       "      <td>1.000000</td>\n",
       "      <td>0.070000</td>\n",
       "      <td>0.060000</td>\n",
       "      <td>0.020000</td>\n",
       "      <td>1.000000</td>\n",
       "      <td>1.000000</td>\n",
       "      <td>0.000000</td>\n",
       "      <td>0.000000</td>\n",
       "    </tr>\n",
       "    <tr>\n",
       "      <th>max</th>\n",
       "      <td>1.000000</td>\n",
       "      <td>1.000000</td>\n",
       "      <td>0.985507</td>\n",
       "      <td>1.000000</td>\n",
       "      <td>1.000000e+00</td>\n",
       "      <td>1.000000e+00</td>\n",
       "      <td>1.000000</td>\n",
       "      <td>1.000000</td>\n",
       "      <td>1.000000</td>\n",
       "      <td>1.000000</td>\n",
       "      <td>...</td>\n",
       "      <td>1.000000</td>\n",
       "      <td>1.000000</td>\n",
       "      <td>1.000000</td>\n",
       "      <td>1.000000</td>\n",
       "      <td>1.000000</td>\n",
       "      <td>1.000000</td>\n",
       "      <td>1.000000</td>\n",
       "      <td>1.000000</td>\n",
       "      <td>1.000000</td>\n",
       "      <td>1.000000</td>\n",
       "    </tr>\n",
       "  </tbody>\n",
       "</table>\n",
       "<p>8 rows × 41 columns</p>\n",
       "</div>"
      ],
      "text/plain": [
       "                  0              1              2              3   \\\n",
       "count  100778.000000  100778.000000  100778.000000  100778.000000   \n",
       "mean        0.006665       0.526618       0.446962       0.698072   \n",
       "std         0.060309       0.213551       0.230640       0.268900   \n",
       "min         0.000000       0.000000       0.000000       0.000000   \n",
       "25%         0.000000       0.500000       0.289855       0.500000   \n",
       "50%         0.000000       0.500000       0.347826       0.900000   \n",
       "75%         0.000000       0.500000       0.695652       0.900000   \n",
       "max         1.000000       1.000000       0.985507       1.000000   \n",
       "\n",
       "                 4             5              6              7   \\\n",
       "count  1.007780e+05  1.007780e+05  100778.000000  100778.000000   \n",
       "mean   3.793482e-05  1.532717e-05       0.000198       0.007571   \n",
       "std    4.729777e-03  3.294335e-03       0.014086       0.084558   \n",
       "min    0.000000e+00  0.000000e+00       0.000000       0.000000   \n",
       "25%    0.000000e+00  0.000000e+00       0.000000       0.000000   \n",
       "50%    3.188489e-08  0.000000e+00       0.000000       0.000000   \n",
       "75%    2.000052e-07  3.984923e-07       0.000000       0.000000   \n",
       "max    1.000000e+00  1.000000e+00       1.000000       1.000000   \n",
       "\n",
       "                  8              9   ...             31             32  \\\n",
       "count  100778.000000  100778.000000  ...  100778.000000  100778.000000   \n",
       "mean        0.000040       0.002659  ...       0.715022       0.453760   \n",
       "std         0.005144       0.027988  ...       0.388767       0.434288   \n",
       "min         0.000000       0.000000  ...       0.000000       0.000000   \n",
       "25%         0.000000       0.000000  ...       0.321569       0.039216   \n",
       "50%         0.000000       0.000000  ...       1.000000       0.247059   \n",
       "75%         0.000000       0.000000  ...       1.000000       1.000000   \n",
       "max         1.000000       1.000000  ...       1.000000       1.000000   \n",
       "\n",
       "                  33             34             35             36  \\\n",
       "count  100778.000000  100778.000000  100778.000000  100778.000000   \n",
       "mean        0.521310       0.083152       0.148470       0.032584   \n",
       "std         0.449156       0.189217       0.309445       0.112806   \n",
       "min         0.000000       0.000000       0.000000       0.000000   \n",
       "25%         0.050000       0.000000       0.000000       0.000000   \n",
       "50%         0.510000       0.020000       0.000000       0.000000   \n",
       "75%         1.000000       0.070000       0.060000       0.020000   \n",
       "max         1.000000       1.000000       1.000000       1.000000   \n",
       "\n",
       "                  37             38             39             40  \n",
       "count  100778.000000  100778.000000  100778.000000  100778.000000  \n",
       "mean        0.284380       0.278272       0.119008       0.120240  \n",
       "std         0.444741       0.445578       0.306821       0.319468  \n",
       "min         0.000000       0.000000       0.000000       0.000000  \n",
       "25%         0.000000       0.000000       0.000000       0.000000  \n",
       "50%         0.000000       0.000000       0.000000       0.000000  \n",
       "75%         1.000000       1.000000       0.000000       0.000000  \n",
       "max         1.000000       1.000000       1.000000       1.000000  \n",
       "\n",
       "[8 rows x 41 columns]"
      ]
     },
     "execution_count": 4,
     "metadata": {},
     "output_type": "execute_result"
    }
   ],
   "source": [
    "X_train.describe()"
   ]
  },
  {
   "cell_type": "markdown",
   "metadata": {},
   "source": [
    "### <a name=\"4\"></a> 4.Ocena zbalansowania zbioru"
   ]
  },
  {
   "cell_type": "code",
   "execution_count": 5,
   "metadata": {},
   "outputs": [
    {
     "data": {
      "text/plain": [
       "Text(0, 0.5, 'Number of images')"
      ]
     },
     "execution_count": 5,
     "metadata": {},
     "output_type": "execute_result"
    },
    {
     "data": {
      "image/png": "[encoded data removed]",
      "text/plain": [
       "<Figure size 640x480 with 1 Axes>"
      ]
     },
     "metadata": {},
     "output_type": "display_data"
    }
   ],
   "source": [
    "g = sns.countplot(x=y_train)\n",
    "plt.xlabel('Digits')\n",
    "plt.ylabel('Number of images')"
   ]
  },
  {
   "cell_type": "markdown",
   "metadata": {},
   "source": [
    "### <a name=\"4\"></a> 5. Wprowadzenie ważenia z powodu niezbalansowania zbioru, kategoryzacja etykiet"
   ]
  },
  {
   "cell_type": "code",
   "execution_count": 6,
   "metadata": {},
   "outputs": [],
   "source": [
    "\n",
    "\n",
    "class_weights = compute_class_weight(\n",
    "    class_weight='balanced',  \n",
    "    classes=np.unique(y_train),  \n",
    "    y=y_train                 \n",
    ")\n",
    "class_weights = dict(enumerate(class_weights))  \n",
    "\n"
   ]
  },
  {
   "cell_type": "code",
   "execution_count": 7,
   "metadata": {},
   "outputs": [],
   "source": [
    "y_train = to_categorical(y_train, num_classes=23)\n",
    "y_test = to_categorical(y_test, num_classes=23)\n",
    "y_val = to_categorical(y_val, num_classes=23)\n",
    "\n"
   ]
  },
  {
   "cell_type": "code",
   "execution_count": 8,
   "metadata": {},
   "outputs": [],
   "source": [
    "y_val = to_categorical(y_val, num_classes=23)"
   ]
  },
  {
   "cell_type": "markdown",
   "metadata": {},
   "source": [
    "### <a name=\"6\"></a> 6.Zdefiniowanie CNN"
   ]
  },
  {
   "cell_type": "code",
   "execution_count": 9,
   "metadata": {},
   "outputs": [],
   "source": [
    "\n",
    "path_best_model = 'cnn_model.keras'\n",
    "best_accuracy = 0\n",
    "\n",
    "\n",
    "\n",
    "def create_cnn(\n",
    "    learning_rate,\n",
    "    num_dense_layers,\n",
    "    num_dense_nodes,\n",
    "    activation,\n",
    "    dropout_rate,\n",
    "    \n",
    "):\n",
    "    \"\"\"\n",
    "    Hiperparametry:\n",
    "    learning_rate:    Współczynnik uczenia dla optymalizatora.\n",
    "    num_dense_layers: Liczba warstw w pełni połączonych (dense).\n",
    "    num_dense_nodes:  Liczba neuronów w każdej warstwie dense.\n",
    "    activation:       Funkcja aktywacji dla wszystkich warstw.\n",
    "    dropout_rate:     Współczynnik Dropout, domyślnie 0.3.\n",
    "    \"\"\"\n",
    "\n",
    "    model = Sequential()\n",
    "\n",
    "    model.add(Input(shape=(41,)))\n",
    "    \n",
    "    for i in range(num_dense_layers):\n",
    "        model.add(Dense(num_dense_nodes, activation=activation))\n",
    "        \n",
    "        model.add(Dropout(dropout_rate))\n",
    "        \n",
    "    model.add(Dense(23, activation='sigmoid'))  \n",
    "\n",
    "    optimizer = Adam(learning_rate=learning_rate)\n",
    "\n",
    "    model.compile(\n",
    "        optimizer=optimizer,\n",
    "        loss='binary_crossentropy',  \n",
    "        metrics=['accuracy']\n",
    "    )\n",
    "\n",
    "    return model"
   ]
  },
  {
   "cell_type": "markdown",
   "metadata": {},
   "source": [
    "### <a name=\"7\"></a> 7.Zdefiniowanie przestrzeni hiperparametrów i umieszczenie hiperparametrów na liście"
   ]
  },
  {
   "cell_type": "code",
   "execution_count": 10,
   "metadata": {},
   "outputs": [],
   "source": [
    "dim_learning_rate = Real(\n",
    "    low=1e-6, high=1e-2, prior='log-uniform', name='learning_rate',\n",
    ")\n",
    "\n",
    "dim_num_dense_layers = Integer(low=2, high=4, name='num_dense_layers')\n",
    "\n",
    "dim_num_dense_nodes = Integer(low=16, high=80, name='num_dense_nodes')\n",
    "\n",
    "\n",
    "dim_activation = Categorical(\n",
    "    categories=['relu', 'sigmoid', 'tanh'], name='activation',\n",
    ")\n",
    "\n",
    "dim_dropout_rate = Real(\n",
    "    low=0.0, high=0.5, prior='uniform', name='dropout_rate'  # Dropout w zakresie 0.0-0.5\n",
    ")\n",
    "\n",
    "\n",
    "\n",
    "param_grid = [\n",
    "    dim_learning_rate,\n",
    "    dim_num_dense_layers,\n",
    "    dim_num_dense_nodes,\n",
    "    dim_activation,\n",
    "    dim_dropout_rate\n",
    "      \n",
    "]"
   ]
  },
  {
   "cell_type": "markdown",
   "metadata": {},
   "source": [
    "### <a name=\"8\"></a> 8.Zdefiniowa funkcji celu"
   ]
  },
  {
   "cell_type": "code",
   "execution_count": 11,
   "metadata": {},
   "outputs": [],
   "source": [
    "# model zapisany pod nazwą\n",
    "path_best_model = 'cnn_model.keras'\n",
    "\n",
    "# punkt startowy dla optymalizacji\n",
    "best_accuracy = 0\n",
    "\n",
    "\n",
    "@use_named_args(param_grid)\n",
    "def objective(\n",
    "    learning_rate,\n",
    "    num_dense_layers,\n",
    "    num_dense_nodes,\n",
    "    activation,\n",
    "    dropout_rate,\n",
    "):\n",
    "    global best_accuracy\n",
    "\n",
    "    print()\n",
    "    print('Learning rate: {0:.1e}'.format(learning_rate))\n",
    "    print('Number of dense layers:', num_dense_layers)\n",
    "    print('Number of dense nodes:', num_dense_nodes)\n",
    "    print('Activation:', activation)\n",
    "    print('Dropout rate:', dropout_rate)\n",
    "    print()\n",
    "\n",
    "\n",
    "    X_train_array = X_train.values\n",
    "    y_numeric = np.argmax(y_train, axis=1)\n",
    "   \n",
    "    skf = StratifiedKFold(n_splits=3, shuffle=True, random_state=42)\n",
    "    val_accuracies = []\n",
    "    \n",
    "    for train_index, val_index in skf.split(X_train_array, y_numeric):\n",
    "        X_fold_train, X_fold_val = X_train_array[train_index], X_train_array[val_index]\n",
    "        y_fold_train, y_fold_val = y_train[train_index], y_train[val_index]\n",
    "\n",
    "        model = create_cnn(\n",
    "            learning_rate=learning_rate,\n",
    "            num_dense_layers=num_dense_layers,\n",
    "            num_dense_nodes=num_dense_nodes,\n",
    "            activation=activation,\n",
    "            dropout_rate=dropout_rate\n",
    "        )\n",
    "\n",
    "        learning_rate_reduction = ReduceLROnPlateau(\n",
    "            monitor='val_accuracy',\n",
    "            patience=2,\n",
    "            verbose=0,\n",
    "            factor=0.5,\n",
    "            min_lr=0.00001\n",
    "        )\n",
    "        early_stopping = EarlyStopping(\n",
    "            monitor='val_accuracy',\n",
    "            patience=3,\n",
    "            restore_best_weights=True,\n",
    "            verbose=0\n",
    "        )\n",
    "\n",
    "        history = model.fit(\n",
    "            x=X_fold_train,\n",
    "            y=y_fold_train,\n",
    "            epochs=10,  \n",
    "            batch_size=32,\n",
    "            validation_data=(X_fold_val, y_fold_val),\n",
    "            class_weight=class_weights,\n",
    "            callbacks=[learning_rate_reduction, early_stopping],\n",
    "            verbose=0\n",
    "        )\n",
    "\n",
    "    \n",
    "        fold_val_accuracy = max(history.history['val_accuracy'])\n",
    "        val_accuracies.append(fold_val_accuracy)\n",
    "\n",
    "\n",
    "        del model\n",
    "\n",
    "    mean_val_accuracy = np.mean(val_accuracies)\n",
    "    print(f\"Cross-Validation Accuracy: {mean_val_accuracy:.2%}\\n\")\n",
    "\n",
    "    if mean_val_accuracy > best_accuracy:\n",
    "        model = create_cnn(\n",
    "            learning_rate=learning_rate,\n",
    "            num_dense_layers=num_dense_layers,\n",
    "            num_dense_nodes=num_dense_nodes,\n",
    "            activation=activation,\n",
    "            dropout_rate=dropout_rate\n",
    "        )\n",
    "        model.fit(\n",
    "            x=X_train_array,\n",
    "            y=y_train,\n",
    "            epochs=10,\n",
    "            batch_size=32,\n",
    "            validation_split=0.1,\n",
    "            class_weight=class_weights,\n",
    "            callbacks=[learning_rate_reduction, early_stopping],\n",
    "            verbose=0\n",
    "        )\n",
    "        model.save(path_best_model)\n",
    "        best_accuracy = mean_val_accuracy\n",
    "        print(f\"New best model saved with accuracy: {best_accuracy:.2%}\\n\")\n",
    "        del model\n",
    "\n",
    "    return -mean_val_accuracy"
   ]
  },
  {
   "cell_type": "markdown",
   "metadata": {},
   "source": [
    "### <a name=\"9 \"></a> 9. Zdefiniowanie defaltowych parametrów"
   ]
  },
  {
   "cell_type": "code",
   "execution_count": 12,
   "metadata": {},
   "outputs": [],
   "source": [
    "default_parameters = [1e-5, 2, 32, 'relu',0.3]\n",
    "\n"
   ]
  },
  {
   "cell_type": "markdown",
   "metadata": {},
   "source": [
    "### <a name=\"10\"></a> 10. Wykonanie  optymalizacji bayesowskiej za pomocą funkcji `fm_minimize`:\n",
    " gdzie:\n",
    "- **Przekazujemy:**\n",
    "  - Funkcję celu (objective function),\n",
    "  - Przestrzeń hiperparametrów (hyperparameter space),\n",
    "  - Początkowe parametry: `x0` (lista z początkowymi wartościami hiperparametrów),\n",
    "  - Funkcję akwizycji (acquisition function): domyślnie `\"EI\"` (Expected Improvement).\n",
    "  - Liczbę próbek przestrzeni hiperparametrów: `n_calls=35`,\n",
    "  - zmienną random_state ustawioną na 0 w celu reprodukowalności wyników\n",
    "\n",
    "\n",
    "- **Cel:**\n",
    "  Znalezienie optymalnych wartości hiperparametrów minimalizujących funkcję celu."
   ]
  },
  {
   "cell_type": "markdown",
   "metadata": {},
   "source": [
    "Biblioteka **skopt** wymaga określonej liczby punktów początkowych, które mogą być generowane losowo lub zdefiniowane w parametrze `x0`. \n",
    "\n",
    "Oprócz tego optymalizator wymaga dodatkowych wywołań do wyznaczania nowych punktów w przestrzeni hiperparametrów. Minimalna liczba wywołań to `n_calls >= 11`."
   ]
  },
  {
   "cell_type": "code",
   "execution_count": 13,
   "metadata": {},
   "outputs": [
    {
     "name": "stdout",
     "output_type": "stream",
     "text": [
      "\n",
      "Learning rate: 1.0e-05\n",
      "Number of dense layers: 2\n",
      "Number of dense nodes: 32\n",
      "Activation: relu\n",
      "Dropout rate: 0.3\n",
      "\n"
     ]
    },
    {
     "name": "stderr",
     "output_type": "stream",
     "text": [
      "c:\\Users\\Jacek\\anaconda3\\Lib\\site-packages\\sklearn\\model_selection\\_split.py:776: UserWarning: The least populated class in y has only 2 members, which is less than n_splits=3.\n",
      "  warnings.warn(\n"
     ]
    },
    {
     "name": "stdout",
     "output_type": "stream",
     "text": [
      "Cross-Validation Accuracy: 3.09%\n",
      "\n",
      "New best model saved with accuracy: 3.09%\n",
      "\n",
      "\n",
      "Learning rate: 2.4e-04\n",
      "Number of dense layers: 2\n",
      "Number of dense nodes: 25\n",
      "Activation: sigmoid\n",
      "Dropout rate: 0.19219085364634997\n",
      "\n"
     ]
    },
    {
     "name": "stderr",
     "output_type": "stream",
     "text": [
      "c:\\Users\\Jacek\\anaconda3\\Lib\\site-packages\\sklearn\\model_selection\\_split.py:776: UserWarning: The least populated class in y has only 2 members, which is less than n_splits=3.\n",
      "  warnings.warn(\n"
     ]
    },
    {
     "name": "stdout",
     "output_type": "stream",
     "text": [
      "Cross-Validation Accuracy: 11.61%\n",
      "\n",
      "New best model saved with accuracy: 11.61%\n",
      "\n",
      "\n",
      "Learning rate: 1.5e-05\n",
      "Number of dense layers: 2\n",
      "Number of dense nodes: 28\n",
      "Activation: sigmoid\n",
      "Dropout rate: 0.3958625190413324\n",
      "\n"
     ]
    },
    {
     "name": "stderr",
     "output_type": "stream",
     "text": [
      "c:\\Users\\Jacek\\anaconda3\\Lib\\site-packages\\sklearn\\model_selection\\_split.py:776: UserWarning: The least populated class in y has only 2 members, which is less than n_splits=3.\n",
      "  warnings.warn(\n"
     ]
    },
    {
     "name": "stdout",
     "output_type": "stream",
     "text": [
      "Cross-Validation Accuracy: 0.84%\n",
      "\n",
      "\n",
      "Learning rate: 1.3e-04\n",
      "Number of dense layers: 2\n",
      "Number of dense nodes: 53\n",
      "Activation: tanh\n",
      "Dropout rate: 0.16869808020863422\n",
      "\n"
     ]
    },
    {
     "name": "stderr",
     "output_type": "stream",
     "text": [
      "c:\\Users\\Jacek\\anaconda3\\Lib\\site-packages\\sklearn\\model_selection\\_split.py:776: UserWarning: The least populated class in y has only 2 members, which is less than n_splits=3.\n",
      "  warnings.warn(\n"
     ]
    },
    {
     "name": "stdout",
     "output_type": "stream",
     "text": [
      "Cross-Validation Accuracy: 59.26%\n",
      "\n",
      "New best model saved with accuracy: 59.26%\n",
      "\n",
      "\n",
      "Learning rate: 3.9e-04\n",
      "Number of dense layers: 2\n",
      "Number of dense nodes: 63\n",
      "Activation: tanh\n",
      "Dropout rate: 0.2368040226368553\n",
      "\n"
     ]
    },
    {
     "name": "stderr",
     "output_type": "stream",
     "text": [
      "c:\\Users\\Jacek\\anaconda3\\Lib\\site-packages\\sklearn\\model_selection\\_split.py:776: UserWarning: The least populated class in y has only 2 members, which is less than n_splits=3.\n",
      "  warnings.warn(\n"
     ]
    },
    {
     "name": "stdout",
     "output_type": "stream",
     "text": [
      "Cross-Validation Accuracy: 76.44%\n",
      "\n",
      "New best model saved with accuracy: 76.44%\n",
      "\n",
      "\n",
      "Learning rate: 1.6e-03\n",
      "Number of dense layers: 3\n",
      "Number of dense nodes: 35\n",
      "Activation: tanh\n",
      "Dropout rate: 0.36031632736295843\n",
      "\n"
     ]
    },
    {
     "name": "stderr",
     "output_type": "stream",
     "text": [
      "c:\\Users\\Jacek\\anaconda3\\Lib\\site-packages\\sklearn\\model_selection\\_split.py:776: UserWarning: The least populated class in y has only 2 members, which is less than n_splits=3.\n",
      "  warnings.warn(\n"
     ]
    },
    {
     "name": "stdout",
     "output_type": "stream",
     "text": [
      "Cross-Validation Accuracy: 64.66%\n",
      "\n",
      "\n",
      "Learning rate: 2.1e-04\n",
      "Number of dense layers: 3\n",
      "Number of dense nodes: 48\n",
      "Activation: sigmoid\n",
      "Dropout rate: 0.20733096999526185\n",
      "\n"
     ]
    },
    {
     "name": "stderr",
     "output_type": "stream",
     "text": [
      "c:\\Users\\Jacek\\anaconda3\\Lib\\site-packages\\sklearn\\model_selection\\_split.py:776: UserWarning: The least populated class in y has only 2 members, which is less than n_splits=3.\n",
      "  warnings.warn(\n"
     ]
    },
    {
     "name": "stdout",
     "output_type": "stream",
     "text": [
      "Cross-Validation Accuracy: 17.86%\n",
      "\n",
      "\n",
      "Learning rate: 1.1e-05\n",
      "Number of dense layers: 4\n",
      "Number of dense nodes: 71\n",
      "Activation: relu\n",
      "Dropout rate: 0.06760908670272604\n",
      "\n"
     ]
    },
    {
     "name": "stderr",
     "output_type": "stream",
     "text": [
      "c:\\Users\\Jacek\\anaconda3\\Lib\\site-packages\\sklearn\\model_selection\\_split.py:776: UserWarning: The least populated class in y has only 2 members, which is less than n_splits=3.\n",
      "  warnings.warn(\n"
     ]
    },
    {
     "name": "stdout",
     "output_type": "stream",
     "text": [
      "Cross-Validation Accuracy: 24.85%\n",
      "\n",
      "\n",
      "Learning rate: 2.0e-05\n",
      "Number of dense layers: 3\n",
      "Number of dense nodes: 54\n",
      "Activation: relu\n",
      "Dropout rate: 0.19324449056293103\n",
      "\n"
     ]
    },
    {
     "name": "stderr",
     "output_type": "stream",
     "text": [
      "c:\\Users\\Jacek\\anaconda3\\Lib\\site-packages\\sklearn\\model_selection\\_split.py:776: UserWarning: The least populated class in y has only 2 members, which is less than n_splits=3.\n",
      "  warnings.warn(\n"
     ]
    },
    {
     "name": "stdout",
     "output_type": "stream",
     "text": [
      "Cross-Validation Accuracy: 11.70%\n",
      "\n",
      "\n",
      "Learning rate: 4.1e-03\n",
      "Number of dense layers: 4\n",
      "Number of dense nodes: 74\n",
      "Activation: sigmoid\n",
      "Dropout rate: 0.45117429158699224\n",
      "\n"
     ]
    },
    {
     "name": "stderr",
     "output_type": "stream",
     "text": [
      "c:\\Users\\Jacek\\anaconda3\\Lib\\site-packages\\sklearn\\model_selection\\_split.py:776: UserWarning: The least populated class in y has only 2 members, which is less than n_splits=3.\n",
      "  warnings.warn(\n"
     ]
    },
    {
     "name": "stdout",
     "output_type": "stream",
     "text": [
      "Cross-Validation Accuracy: 15.62%\n",
      "\n",
      "\n",
      "Learning rate: 2.5e-06\n",
      "Number of dense layers: 3\n",
      "Number of dense nodes: 51\n",
      "Activation: sigmoid\n",
      "Dropout rate: 0.08545479256802259\n",
      "\n"
     ]
    },
    {
     "name": "stderr",
     "output_type": "stream",
     "text": [
      "c:\\Users\\Jacek\\anaconda3\\Lib\\site-packages\\sklearn\\model_selection\\_split.py:776: UserWarning: The least populated class in y has only 2 members, which is less than n_splits=3.\n",
      "  warnings.warn(\n"
     ]
    },
    {
     "name": "stdout",
     "output_type": "stream",
     "text": [
      "Cross-Validation Accuracy: 0.78%\n",
      "\n",
      "\n",
      "Learning rate: 1.0e-03\n",
      "Number of dense layers: 4\n",
      "Number of dense nodes: 47\n",
      "Activation: tanh\n",
      "Dropout rate: 0.34742097301484365\n",
      "\n"
     ]
    },
    {
     "name": "stderr",
     "output_type": "stream",
     "text": [
      "c:\\Users\\Jacek\\anaconda3\\Lib\\site-packages\\sklearn\\model_selection\\_split.py:776: UserWarning: The least populated class in y has only 2 members, which is less than n_splits=3.\n",
      "  warnings.warn(\n"
     ]
    },
    {
     "name": "stdout",
     "output_type": "stream",
     "text": [
      "Cross-Validation Accuracy: 69.26%\n",
      "\n",
      "\n",
      "Learning rate: 1.4e-03\n",
      "Number of dense layers: 4\n",
      "Number of dense nodes: 39\n",
      "Activation: tanh\n",
      "Dropout rate: 0.18775801101746709\n",
      "\n"
     ]
    },
    {
     "name": "stderr",
     "output_type": "stream",
     "text": [
      "c:\\Users\\Jacek\\anaconda3\\Lib\\site-packages\\sklearn\\model_selection\\_split.py:776: UserWarning: The least populated class in y has only 2 members, which is less than n_splits=3.\n",
      "  warnings.warn(\n"
     ]
    },
    {
     "name": "stdout",
     "output_type": "stream",
     "text": [
      "Cross-Validation Accuracy: 73.14%\n",
      "\n",
      "\n",
      "Learning rate: 1.2e-06\n",
      "Number of dense layers: 3\n",
      "Number of dense nodes: 58\n",
      "Activation: tanh\n",
      "Dropout rate: 0.32070026085717124\n",
      "\n"
     ]
    },
    {
     "name": "stderr",
     "output_type": "stream",
     "text": [
      "c:\\Users\\Jacek\\anaconda3\\Lib\\site-packages\\sklearn\\model_selection\\_split.py:776: UserWarning: The least populated class in y has only 2 members, which is less than n_splits=3.\n",
      "  warnings.warn(\n"
     ]
    },
    {
     "name": "stdout",
     "output_type": "stream",
     "text": [
      "Cross-Validation Accuracy: 0.37%\n",
      "\n",
      "\n",
      "Learning rate: 1.5e-04\n",
      "Number of dense layers: 2\n",
      "Number of dense nodes: 71\n",
      "Activation: tanh\n",
      "Dropout rate: 0.26252512606383194\n",
      "\n"
     ]
    },
    {
     "name": "stderr",
     "output_type": "stream",
     "text": [
      "c:\\Users\\Jacek\\anaconda3\\Lib\\site-packages\\sklearn\\model_selection\\_split.py:776: UserWarning: The least populated class in y has only 2 members, which is less than n_splits=3.\n",
      "  warnings.warn(\n"
     ]
    },
    {
     "name": "stdout",
     "output_type": "stream",
     "text": [
      "Cross-Validation Accuracy: 62.28%\n",
      "\n",
      "\n",
      "Learning rate: 4.2e-03\n",
      "Number of dense layers: 4\n",
      "Number of dense nodes: 78\n",
      "Activation: tanh\n",
      "Dropout rate: 0.29186892390533675\n",
      "\n"
     ]
    },
    {
     "name": "stderr",
     "output_type": "stream",
     "text": [
      "c:\\Users\\Jacek\\anaconda3\\Lib\\site-packages\\sklearn\\model_selection\\_split.py:776: UserWarning: The least populated class in y has only 2 members, which is less than n_splits=3.\n",
      "  warnings.warn(\n"
     ]
    },
    {
     "name": "stdout",
     "output_type": "stream",
     "text": [
      "Cross-Validation Accuracy: 72.54%\n",
      "\n",
      "\n",
      "Learning rate: 3.9e-04\n",
      "Number of dense layers: 4\n",
      "Number of dense nodes: 64\n",
      "Activation: tanh\n",
      "Dropout rate: 0.47078458699546416\n",
      "\n"
     ]
    },
    {
     "name": "stderr",
     "output_type": "stream",
     "text": [
      "c:\\Users\\Jacek\\anaconda3\\Lib\\site-packages\\sklearn\\model_selection\\_split.py:776: UserWarning: The least populated class in y has only 2 members, which is less than n_splits=3.\n",
      "  warnings.warn(\n"
     ]
    },
    {
     "name": "stdout",
     "output_type": "stream",
     "text": [
      "Cross-Validation Accuracy: 65.33%\n",
      "\n",
      "\n",
      "Learning rate: 8.6e-04\n",
      "Number of dense layers: 3\n",
      "Number of dense nodes: 62\n",
      "Activation: tanh\n",
      "Dropout rate: 0.07341355140566903\n",
      "\n"
     ]
    },
    {
     "name": "stderr",
     "output_type": "stream",
     "text": [
      "c:\\Users\\Jacek\\anaconda3\\Lib\\site-packages\\sklearn\\model_selection\\_split.py:776: UserWarning: The least populated class in y has only 2 members, which is less than n_splits=3.\n",
      "  warnings.warn(\n"
     ]
    },
    {
     "name": "stdout",
     "output_type": "stream",
     "text": [
      "Cross-Validation Accuracy: 84.95%\n",
      "\n",
      "New best model saved with accuracy: 84.95%\n",
      "\n",
      "\n",
      "Learning rate: 1.2e-03\n",
      "Number of dense layers: 3\n",
      "Number of dense nodes: 61\n",
      "Activation: tanh\n",
      "Dropout rate: 0.13488134914294517\n",
      "\n"
     ]
    },
    {
     "name": "stderr",
     "output_type": "stream",
     "text": [
      "c:\\Users\\Jacek\\anaconda3\\Lib\\site-packages\\sklearn\\model_selection\\_split.py:776: UserWarning: The least populated class in y has only 2 members, which is less than n_splits=3.\n",
      "  warnings.warn(\n"
     ]
    },
    {
     "name": "stdout",
     "output_type": "stream",
     "text": [
      "Cross-Validation Accuracy: 73.15%\n",
      "\n",
      "\n",
      "Learning rate: 3.0e-03\n",
      "Number of dense layers: 3\n",
      "Number of dense nodes: 60\n",
      "Activation: tanh\n",
      "Dropout rate: 0.25308777270324984\n",
      "\n"
     ]
    },
    {
     "name": "stderr",
     "output_type": "stream",
     "text": [
      "c:\\Users\\Jacek\\anaconda3\\Lib\\site-packages\\sklearn\\model_selection\\_split.py:776: UserWarning: The least populated class in y has only 2 members, which is less than n_splits=3.\n",
      "  warnings.warn(\n"
     ]
    },
    {
     "name": "stdout",
     "output_type": "stream",
     "text": [
      "Cross-Validation Accuracy: 75.78%\n",
      "\n",
      "\n",
      "Learning rate: 6.5e-04\n",
      "Number of dense layers: 3\n",
      "Number of dense nodes: 60\n",
      "Activation: tanh\n",
      "Dropout rate: 0.3166281904857937\n",
      "\n"
     ]
    },
    {
     "name": "stderr",
     "output_type": "stream",
     "text": [
      "c:\\Users\\Jacek\\anaconda3\\Lib\\site-packages\\sklearn\\model_selection\\_split.py:776: UserWarning: The least populated class in y has only 2 members, which is less than n_splits=3.\n",
      "  warnings.warn(\n"
     ]
    },
    {
     "name": "stdout",
     "output_type": "stream",
     "text": [
      "Cross-Validation Accuracy: 60.42%\n",
      "\n",
      "\n",
      "Learning rate: 5.3e-06\n",
      "Number of dense layers: 3\n",
      "Number of dense nodes: 61\n",
      "Activation: tanh\n",
      "Dropout rate: 0.17285225362510429\n",
      "\n"
     ]
    },
    {
     "name": "stderr",
     "output_type": "stream",
     "text": [
      "c:\\Users\\Jacek\\anaconda3\\Lib\\site-packages\\sklearn\\model_selection\\_split.py:776: UserWarning: The least populated class in y has only 2 members, which is less than n_splits=3.\n",
      "  warnings.warn(\n"
     ]
    },
    {
     "name": "stdout",
     "output_type": "stream",
     "text": [
      "Cross-Validation Accuracy: 36.12%\n",
      "\n",
      "\n",
      "Learning rate: 1.2e-03\n",
      "Number of dense layers: 3\n",
      "Number of dense nodes: 58\n",
      "Activation: tanh\n",
      "Dropout rate: 0.3089236083306009\n",
      "\n"
     ]
    },
    {
     "name": "stderr",
     "output_type": "stream",
     "text": [
      "c:\\Users\\Jacek\\anaconda3\\Lib\\site-packages\\sklearn\\model_selection\\_split.py:776: UserWarning: The least populated class in y has only 2 members, which is less than n_splits=3.\n",
      "  warnings.warn(\n"
     ]
    },
    {
     "name": "stdout",
     "output_type": "stream",
     "text": [
      "Cross-Validation Accuracy: 70.24%\n",
      "\n",
      "\n",
      "Learning rate: 1.5e-03\n",
      "Number of dense layers: 3\n",
      "Number of dense nodes: 58\n",
      "Activation: tanh\n",
      "Dropout rate: 0.3231883600968112\n",
      "\n"
     ]
    },
    {
     "name": "stderr",
     "output_type": "stream",
     "text": [
      "c:\\Users\\Jacek\\anaconda3\\Lib\\site-packages\\sklearn\\model_selection\\_split.py:776: UserWarning: The least populated class in y has only 2 members, which is less than n_splits=3.\n",
      "  warnings.warn(\n"
     ]
    },
    {
     "name": "stdout",
     "output_type": "stream",
     "text": [
      "Cross-Validation Accuracy: 78.00%\n",
      "\n",
      "\n",
      "Learning rate: 7.3e-04\n",
      "Number of dense layers: 3\n",
      "Number of dense nodes: 58\n",
      "Activation: tanh\n",
      "Dropout rate: 0.014399291050893607\n",
      "\n"
     ]
    },
    {
     "name": "stderr",
     "output_type": "stream",
     "text": [
      "c:\\Users\\Jacek\\anaconda3\\Lib\\site-packages\\sklearn\\model_selection\\_split.py:776: UserWarning: The least populated class in y has only 2 members, which is less than n_splits=3.\n",
      "  warnings.warn(\n"
     ]
    },
    {
     "name": "stdout",
     "output_type": "stream",
     "text": [
      "Cross-Validation Accuracy: 70.51%\n",
      "\n",
      "\n",
      "Learning rate: 1.5e-04\n",
      "Number of dense layers: 3\n",
      "Number of dense nodes: 63\n",
      "Activation: tanh\n",
      "Dropout rate: 0.050508489542785265\n",
      "\n"
     ]
    },
    {
     "name": "stderr",
     "output_type": "stream",
     "text": [
      "c:\\Users\\Jacek\\anaconda3\\Lib\\site-packages\\sklearn\\model_selection\\_split.py:776: UserWarning: The least populated class in y has only 2 members, which is less than n_splits=3.\n",
      "  warnings.warn(\n"
     ]
    },
    {
     "name": "stdout",
     "output_type": "stream",
     "text": [
      "Cross-Validation Accuracy: 50.94%\n",
      "\n",
      "\n",
      "Learning rate: 4.7e-04\n",
      "Number of dense layers: 3\n",
      "Number of dense nodes: 59\n",
      "Activation: tanh\n",
      "Dropout rate: 0.3281083509505832\n",
      "\n"
     ]
    },
    {
     "name": "stderr",
     "output_type": "stream",
     "text": [
      "c:\\Users\\Jacek\\anaconda3\\Lib\\site-packages\\sklearn\\model_selection\\_split.py:776: UserWarning: The least populated class in y has only 2 members, which is less than n_splits=3.\n",
      "  warnings.warn(\n"
     ]
    },
    {
     "name": "stdout",
     "output_type": "stream",
     "text": [
      "Cross-Validation Accuracy: 62.76%\n",
      "\n",
      "\n",
      "Learning rate: 3.7e-04\n",
      "Number of dense layers: 3\n",
      "Number of dense nodes: 61\n",
      "Activation: tanh\n",
      "Dropout rate: 0.4942872528534116\n",
      "\n"
     ]
    },
    {
     "name": "stderr",
     "output_type": "stream",
     "text": [
      "c:\\Users\\Jacek\\anaconda3\\Lib\\site-packages\\sklearn\\model_selection\\_split.py:776: UserWarning: The least populated class in y has only 2 members, which is less than n_splits=3.\n",
      "  warnings.warn(\n"
     ]
    },
    {
     "name": "stdout",
     "output_type": "stream",
     "text": [
      "Cross-Validation Accuracy: 72.45%\n",
      "\n",
      "\n",
      "Learning rate: 3.1e-04\n",
      "Number of dense layers: 3\n",
      "Number of dense nodes: 62\n",
      "Activation: tanh\n",
      "Dropout rate: 0.3193534189460518\n",
      "\n"
     ]
    },
    {
     "name": "stderr",
     "output_type": "stream",
     "text": [
      "c:\\Users\\Jacek\\anaconda3\\Lib\\site-packages\\sklearn\\model_selection\\_split.py:776: UserWarning: The least populated class in y has only 2 members, which is less than n_splits=3.\n",
      "  warnings.warn(\n"
     ]
    },
    {
     "name": "stdout",
     "output_type": "stream",
     "text": [
      "Cross-Validation Accuracy: 70.61%\n",
      "\n",
      "\n",
      "Learning rate: 2.9e-04\n",
      "Number of dense layers: 3\n",
      "Number of dense nodes: 58\n",
      "Activation: tanh\n",
      "Dropout rate: 0.4695527923831025\n",
      "\n"
     ]
    },
    {
     "name": "stderr",
     "output_type": "stream",
     "text": [
      "c:\\Users\\Jacek\\anaconda3\\Lib\\site-packages\\sklearn\\model_selection\\_split.py:776: UserWarning: The least populated class in y has only 2 members, which is less than n_splits=3.\n",
      "  warnings.warn(\n"
     ]
    },
    {
     "name": "stdout",
     "output_type": "stream",
     "text": [
      "Cross-Validation Accuracy: 64.44%\n",
      "\n",
      "\n",
      "Learning rate: 2.9e-04\n",
      "Number of dense layers: 3\n",
      "Number of dense nodes: 54\n",
      "Activation: tanh\n",
      "Dropout rate: 0.2759625143124529\n",
      "\n"
     ]
    },
    {
     "name": "stderr",
     "output_type": "stream",
     "text": [
      "c:\\Users\\Jacek\\anaconda3\\Lib\\site-packages\\sklearn\\model_selection\\_split.py:776: UserWarning: The least populated class in y has only 2 members, which is less than n_splits=3.\n",
      "  warnings.warn(\n"
     ]
    },
    {
     "name": "stdout",
     "output_type": "stream",
     "text": [
      "Cross-Validation Accuracy: 72.71%\n",
      "\n",
      "\n",
      "Learning rate: 2.9e-04\n",
      "Number of dense layers: 3\n",
      "Number of dense nodes: 56\n",
      "Activation: tanh\n",
      "Dropout rate: 0.2594923427888678\n",
      "\n"
     ]
    },
    {
     "name": "stderr",
     "output_type": "stream",
     "text": [
      "c:\\Users\\Jacek\\anaconda3\\Lib\\site-packages\\sklearn\\model_selection\\_split.py:776: UserWarning: The least populated class in y has only 2 members, which is less than n_splits=3.\n",
      "  warnings.warn(\n"
     ]
    },
    {
     "name": "stdout",
     "output_type": "stream",
     "text": [
      "Cross-Validation Accuracy: 58.42%\n",
      "\n",
      "\n",
      "Learning rate: 1.2e-05\n",
      "Number of dense layers: 4\n",
      "Number of dense nodes: 58\n",
      "Activation: tanh\n",
      "Dropout rate: 0.3095769091044626\n",
      "\n"
     ]
    },
    {
     "name": "stderr",
     "output_type": "stream",
     "text": [
      "c:\\Users\\Jacek\\anaconda3\\Lib\\site-packages\\sklearn\\model_selection\\_split.py:776: UserWarning: The least populated class in y has only 2 members, which is less than n_splits=3.\n",
      "  warnings.warn(\n"
     ]
    },
    {
     "name": "stdout",
     "output_type": "stream",
     "text": [
      "Cross-Validation Accuracy: 7.38%\n",
      "\n",
      "\n",
      "Learning rate: 5.7e-05\n",
      "Number of dense layers: 4\n",
      "Number of dense nodes: 31\n",
      "Activation: tanh\n",
      "Dropout rate: 0.4140493866010599\n",
      "\n"
     ]
    },
    {
     "name": "stderr",
     "output_type": "stream",
     "text": [
      "c:\\Users\\Jacek\\anaconda3\\Lib\\site-packages\\sklearn\\model_selection\\_split.py:776: UserWarning: The least populated class in y has only 2 members, which is less than n_splits=3.\n",
      "  warnings.warn(\n"
     ]
    },
    {
     "name": "stdout",
     "output_type": "stream",
     "text": [
      "Cross-Validation Accuracy: 1.46%\n",
      "\n",
      "\n",
      "Learning rate: 1.6e-03\n",
      "Number of dense layers: 4\n",
      "Number of dense nodes: 34\n",
      "Activation: tanh\n",
      "Dropout rate: 0.1458921787735992\n",
      "\n"
     ]
    },
    {
     "name": "stderr",
     "output_type": "stream",
     "text": [
      "c:\\Users\\Jacek\\anaconda3\\Lib\\site-packages\\sklearn\\model_selection\\_split.py:776: UserWarning: The least populated class in y has only 2 members, which is less than n_splits=3.\n",
      "  warnings.warn(\n"
     ]
    },
    {
     "name": "stdout",
     "output_type": "stream",
     "text": [
      "Cross-Validation Accuracy: 69.75%\n",
      "\n",
      "\n",
      "Learning rate: 5.9e-04\n",
      "Number of dense layers: 4\n",
      "Number of dense nodes: 27\n",
      "Activation: tanh\n",
      "Dropout rate: 0.1511646461516358\n",
      "\n"
     ]
    },
    {
     "name": "stderr",
     "output_type": "stream",
     "text": [
      "c:\\Users\\Jacek\\anaconda3\\Lib\\site-packages\\sklearn\\model_selection\\_split.py:776: UserWarning: The least populated class in y has only 2 members, which is less than n_splits=3.\n",
      "  warnings.warn(\n"
     ]
    },
    {
     "name": "stdout",
     "output_type": "stream",
     "text": [
      "Cross-Validation Accuracy: 63.42%\n",
      "\n",
      "\n",
      "Learning rate: 3.5e-04\n",
      "Number of dense layers: 4\n",
      "Number of dense nodes: 28\n",
      "Activation: tanh\n",
      "Dropout rate: 0.42945383723978686\n",
      "\n"
     ]
    },
    {
     "name": "stderr",
     "output_type": "stream",
     "text": [
      "c:\\Users\\Jacek\\anaconda3\\Lib\\site-packages\\sklearn\\model_selection\\_split.py:776: UserWarning: The least populated class in y has only 2 members, which is less than n_splits=3.\n",
      "  warnings.warn(\n"
     ]
    },
    {
     "name": "stdout",
     "output_type": "stream",
     "text": [
      "Cross-Validation Accuracy: 46.54%\n",
      "\n",
      "\n",
      "Learning rate: 3.4e-03\n",
      "Number of dense layers: 4\n",
      "Number of dense nodes: 77\n",
      "Activation: tanh\n",
      "Dropout rate: 0.40397254727549814\n",
      "\n"
     ]
    },
    {
     "name": "stderr",
     "output_type": "stream",
     "text": [
      "c:\\Users\\Jacek\\anaconda3\\Lib\\site-packages\\sklearn\\model_selection\\_split.py:776: UserWarning: The least populated class in y has only 2 members, which is less than n_splits=3.\n",
      "  warnings.warn(\n"
     ]
    },
    {
     "name": "stdout",
     "output_type": "stream",
     "text": [
      "Cross-Validation Accuracy: 73.92%\n",
      "\n",
      "\n",
      "Learning rate: 5.2e-03\n",
      "Number of dense layers: 4\n",
      "Number of dense nodes: 22\n",
      "Activation: tanh\n",
      "Dropout rate: 0.4033097331698996\n",
      "\n"
     ]
    },
    {
     "name": "stderr",
     "output_type": "stream",
     "text": [
      "c:\\Users\\Jacek\\anaconda3\\Lib\\site-packages\\sklearn\\model_selection\\_split.py:776: UserWarning: The least populated class in y has only 2 members, which is less than n_splits=3.\n",
      "  warnings.warn(\n"
     ]
    },
    {
     "name": "stdout",
     "output_type": "stream",
     "text": [
      "Cross-Validation Accuracy: 32.89%\n",
      "\n",
      "\n",
      "Learning rate: 6.7e-03\n",
      "Number of dense layers: 4\n",
      "Number of dense nodes: 49\n",
      "Activation: tanh\n",
      "Dropout rate: 0.40342071449681444\n",
      "\n"
     ]
    },
    {
     "name": "stderr",
     "output_type": "stream",
     "text": [
      "c:\\Users\\Jacek\\anaconda3\\Lib\\site-packages\\sklearn\\model_selection\\_split.py:776: UserWarning: The least populated class in y has only 2 members, which is less than n_splits=3.\n",
      "  warnings.warn(\n"
     ]
    },
    {
     "name": "stdout",
     "output_type": "stream",
     "text": [
      "Cross-Validation Accuracy: 43.08%\n",
      "\n",
      "\n",
      "Learning rate: 7.6e-05\n",
      "Number of dense layers: 4\n",
      "Number of dense nodes: 38\n",
      "Activation: tanh\n",
      "Dropout rate: 0.11278544875374982\n",
      "\n"
     ]
    },
    {
     "name": "stderr",
     "output_type": "stream",
     "text": [
      "c:\\Users\\Jacek\\anaconda3\\Lib\\site-packages\\sklearn\\model_selection\\_split.py:776: UserWarning: The least populated class in y has only 2 members, which is less than n_splits=3.\n",
      "  warnings.warn(\n"
     ]
    },
    {
     "name": "stdout",
     "output_type": "stream",
     "text": [
      "Cross-Validation Accuracy: 26.01%\n",
      "\n",
      "\n",
      "Learning rate: 1.2e-03\n",
      "Number of dense layers: 3\n",
      "Number of dense nodes: 30\n",
      "Activation: tanh\n",
      "Dropout rate: 0.015748050850559973\n",
      "\n"
     ]
    },
    {
     "name": "stderr",
     "output_type": "stream",
     "text": [
      "c:\\Users\\Jacek\\anaconda3\\Lib\\site-packages\\sklearn\\model_selection\\_split.py:776: UserWarning: The least populated class in y has only 2 members, which is less than n_splits=3.\n",
      "  warnings.warn(\n"
     ]
    },
    {
     "name": "stdout",
     "output_type": "stream",
     "text": [
      "Cross-Validation Accuracy: 78.30%\n",
      "\n",
      "\n",
      "Learning rate: 1.1e-03\n",
      "Number of dense layers: 3\n",
      "Number of dense nodes: 22\n",
      "Activation: tanh\n",
      "Dropout rate: 0.023987819446946897\n",
      "\n"
     ]
    },
    {
     "name": "stderr",
     "output_type": "stream",
     "text": [
      "c:\\Users\\Jacek\\anaconda3\\Lib\\site-packages\\sklearn\\model_selection\\_split.py:776: UserWarning: The least populated class in y has only 2 members, which is less than n_splits=3.\n",
      "  warnings.warn(\n"
     ]
    },
    {
     "name": "stdout",
     "output_type": "stream",
     "text": [
      "Cross-Validation Accuracy: 71.85%\n",
      "\n",
      "\n",
      "Learning rate: 2.4e-04\n",
      "Number of dense layers: 4\n",
      "Number of dense nodes: 66\n",
      "Activation: tanh\n",
      "Dropout rate: 0.3902879419440368\n",
      "\n"
     ]
    },
    {
     "name": "stderr",
     "output_type": "stream",
     "text": [
      "c:\\Users\\Jacek\\anaconda3\\Lib\\site-packages\\sklearn\\model_selection\\_split.py:776: UserWarning: The least populated class in y has only 2 members, which is less than n_splits=3.\n",
      "  warnings.warn(\n"
     ]
    },
    {
     "name": "stdout",
     "output_type": "stream",
     "text": [
      "Cross-Validation Accuracy: 55.57%\n",
      "\n",
      "\n",
      "Learning rate: 2.7e-04\n",
      "Number of dense layers: 3\n",
      "Number of dense nodes: 23\n",
      "Activation: tanh\n",
      "Dropout rate: 0.0004898612664814285\n",
      "\n"
     ]
    },
    {
     "name": "stderr",
     "output_type": "stream",
     "text": [
      "c:\\Users\\Jacek\\anaconda3\\Lib\\site-packages\\sklearn\\model_selection\\_split.py:776: UserWarning: The least populated class in y has only 2 members, which is less than n_splits=3.\n",
      "  warnings.warn(\n"
     ]
    },
    {
     "name": "stdout",
     "output_type": "stream",
     "text": [
      "Cross-Validation Accuracy: 58.29%\n",
      "\n",
      "\n",
      "Learning rate: 1.2e-03\n",
      "Number of dense layers: 3\n",
      "Number of dense nodes: 18\n",
      "Activation: tanh\n",
      "Dropout rate: 0.45088497678772305\n",
      "\n"
     ]
    },
    {
     "name": "stderr",
     "output_type": "stream",
     "text": [
      "c:\\Users\\Jacek\\anaconda3\\Lib\\site-packages\\sklearn\\model_selection\\_split.py:776: UserWarning: The least populated class in y has only 2 members, which is less than n_splits=3.\n",
      "  warnings.warn(\n"
     ]
    },
    {
     "name": "stdout",
     "output_type": "stream",
     "text": [
      "Cross-Validation Accuracy: 56.03%\n",
      "\n",
      "\n",
      "Learning rate: 7.0e-05\n",
      "Number of dense layers: 2\n",
      "Number of dense nodes: 67\n",
      "Activation: tanh\n",
      "Dropout rate: 0.4789092498201977\n",
      "\n"
     ]
    },
    {
     "name": "stderr",
     "output_type": "stream",
     "text": [
      "c:\\Users\\Jacek\\anaconda3\\Lib\\site-packages\\sklearn\\model_selection\\_split.py:776: UserWarning: The least populated class in y has only 2 members, which is less than n_splits=3.\n",
      "  warnings.warn(\n"
     ]
    },
    {
     "name": "stdout",
     "output_type": "stream",
     "text": [
      "Cross-Validation Accuracy: 45.77%\n",
      "\n",
      "\n",
      "Learning rate: 3.2e-04\n",
      "Number of dense layers: 4\n",
      "Number of dense nodes: 43\n",
      "Activation: tanh\n",
      "Dropout rate: 0.021020270694223523\n",
      "\n"
     ]
    },
    {
     "name": "stderr",
     "output_type": "stream",
     "text": [
      "c:\\Users\\Jacek\\anaconda3\\Lib\\site-packages\\sklearn\\model_selection\\_split.py:776: UserWarning: The least populated class in y has only 2 members, which is less than n_splits=3.\n",
      "  warnings.warn(\n"
     ]
    },
    {
     "name": "stdout",
     "output_type": "stream",
     "text": [
      "Cross-Validation Accuracy: 65.04%\n",
      "\n",
      "\n",
      "Learning rate: 5.9e-03\n",
      "Number of dense layers: 2\n",
      "Number of dense nodes: 59\n",
      "Activation: tanh\n",
      "Dropout rate: 0.10055130881239174\n",
      "\n"
     ]
    },
    {
     "name": "stderr",
     "output_type": "stream",
     "text": [
      "c:\\Users\\Jacek\\anaconda3\\Lib\\site-packages\\sklearn\\model_selection\\_split.py:776: UserWarning: The least populated class in y has only 2 members, which is less than n_splits=3.\n",
      "  warnings.warn(\n"
     ]
    },
    {
     "name": "stdout",
     "output_type": "stream",
     "text": [
      "Cross-Validation Accuracy: 85.39%\n",
      "\n",
      "New best model saved with accuracy: 85.39%\n",
      "\n",
      "\n",
      "Learning rate: 7.9e-03\n",
      "Number of dense layers: 4\n",
      "Number of dense nodes: 61\n",
      "Activation: tanh\n",
      "Dropout rate: 0.07183175354259881\n",
      "\n"
     ]
    },
    {
     "name": "stderr",
     "output_type": "stream",
     "text": [
      "c:\\Users\\Jacek\\anaconda3\\Lib\\site-packages\\sklearn\\model_selection\\_split.py:776: UserWarning: The least populated class in y has only 2 members, which is less than n_splits=3.\n",
      "  warnings.warn(\n"
     ]
    },
    {
     "name": "stdout",
     "output_type": "stream",
     "text": [
      "Cross-Validation Accuracy: 55.75%\n",
      "\n",
      "\n",
      "Learning rate: 6.1e-03\n",
      "Number of dense layers: 2\n",
      "Number of dense nodes: 70\n",
      "Activation: tanh\n",
      "Dropout rate: 0.07335594842835676\n",
      "\n"
     ]
    },
    {
     "name": "stderr",
     "output_type": "stream",
     "text": [
      "c:\\Users\\Jacek\\anaconda3\\Lib\\site-packages\\sklearn\\model_selection\\_split.py:776: UserWarning: The least populated class in y has only 2 members, which is less than n_splits=3.\n",
      "  warnings.warn(\n"
     ]
    },
    {
     "name": "stdout",
     "output_type": "stream",
     "text": [
      "Cross-Validation Accuracy: 80.65%\n",
      "\n",
      "\n",
      "Learning rate: 4.7e-03\n",
      "Number of dense layers: 2\n",
      "Number of dense nodes: 20\n",
      "Activation: tanh\n",
      "Dropout rate: 0.30144110651241973\n",
      "\n"
     ]
    },
    {
     "name": "stderr",
     "output_type": "stream",
     "text": [
      "c:\\Users\\Jacek\\anaconda3\\Lib\\site-packages\\sklearn\\model_selection\\_split.py:776: UserWarning: The least populated class in y has only 2 members, which is less than n_splits=3.\n",
      "  warnings.warn(\n"
     ]
    },
    {
     "name": "stdout",
     "output_type": "stream",
     "text": [
      "Cross-Validation Accuracy: 67.94%\n",
      "\n",
      "\n",
      "Learning rate: 4.7e-03\n",
      "Number of dense layers: 2\n",
      "Number of dense nodes: 43\n",
      "Activation: tanh\n",
      "Dropout rate: 0.3335993762024971\n",
      "\n"
     ]
    },
    {
     "name": "stderr",
     "output_type": "stream",
     "text": [
      "c:\\Users\\Jacek\\anaconda3\\Lib\\site-packages\\sklearn\\model_selection\\_split.py:776: UserWarning: The least populated class in y has only 2 members, which is less than n_splits=3.\n",
      "  warnings.warn(\n"
     ]
    },
    {
     "name": "stdout",
     "output_type": "stream",
     "text": [
      "Cross-Validation Accuracy: 69.66%\n",
      "\n",
      "\n",
      "Learning rate: 4.8e-03\n",
      "Number of dense layers: 2\n",
      "Number of dense nodes: 70\n",
      "Activation: tanh\n",
      "Dropout rate: 0.40280111993655704\n",
      "\n"
     ]
    },
    {
     "name": "stderr",
     "output_type": "stream",
     "text": [
      "c:\\Users\\Jacek\\anaconda3\\Lib\\site-packages\\sklearn\\model_selection\\_split.py:776: UserWarning: The least populated class in y has only 2 members, which is less than n_splits=3.\n",
      "  warnings.warn(\n"
     ]
    },
    {
     "name": "stdout",
     "output_type": "stream",
     "text": [
      "Cross-Validation Accuracy: 74.24%\n",
      "\n",
      "\n",
      "Learning rate: 1.1e-04\n",
      "Number of dense layers: 4\n",
      "Number of dense nodes: 73\n",
      "Activation: tanh\n",
      "Dropout rate: 0.4475355138807238\n",
      "\n"
     ]
    },
    {
     "name": "stderr",
     "output_type": "stream",
     "text": [
      "c:\\Users\\Jacek\\anaconda3\\Lib\\site-packages\\sklearn\\model_selection\\_split.py:776: UserWarning: The least populated class in y has only 2 members, which is less than n_splits=3.\n",
      "  warnings.warn(\n"
     ]
    },
    {
     "name": "stdout",
     "output_type": "stream",
     "text": [
      "Cross-Validation Accuracy: 51.18%\n",
      "\n",
      "\n",
      "Learning rate: 6.5e-03\n",
      "Number of dense layers: 3\n",
      "Number of dense nodes: 78\n",
      "Activation: tanh\n",
      "Dropout rate: 0.08405516540038156\n",
      "\n"
     ]
    },
    {
     "name": "stderr",
     "output_type": "stream",
     "text": [
      "c:\\Users\\Jacek\\anaconda3\\Lib\\site-packages\\sklearn\\model_selection\\_split.py:776: UserWarning: The least populated class in y has only 2 members, which is less than n_splits=3.\n",
      "  warnings.warn(\n"
     ]
    },
    {
     "name": "stdout",
     "output_type": "stream",
     "text": [
      "Cross-Validation Accuracy: 81.05%\n",
      "\n",
      "\n",
      "Learning rate: 8.2e-03\n",
      "Number of dense layers: 2\n",
      "Number of dense nodes: 25\n",
      "Activation: tanh\n",
      "Dropout rate: 0.06300302816215005\n",
      "\n"
     ]
    },
    {
     "name": "stderr",
     "output_type": "stream",
     "text": [
      "c:\\Users\\Jacek\\anaconda3\\Lib\\site-packages\\sklearn\\model_selection\\_split.py:776: UserWarning: The least populated class in y has only 2 members, which is less than n_splits=3.\n",
      "  warnings.warn(\n"
     ]
    },
    {
     "name": "stdout",
     "output_type": "stream",
     "text": [
      "Cross-Validation Accuracy: 70.64%\n",
      "\n",
      "\n",
      "Learning rate: 6.9e-03\n",
      "Number of dense layers: 3\n",
      "Number of dense nodes: 64\n",
      "Activation: tanh\n",
      "Dropout rate: 0.09930289430047909\n",
      "\n"
     ]
    },
    {
     "name": "stderr",
     "output_type": "stream",
     "text": [
      "c:\\Users\\Jacek\\anaconda3\\Lib\\site-packages\\sklearn\\model_selection\\_split.py:776: UserWarning: The least populated class in y has only 2 members, which is less than n_splits=3.\n",
      "  warnings.warn(\n"
     ]
    },
    {
     "name": "stdout",
     "output_type": "stream",
     "text": [
      "Cross-Validation Accuracy: 74.06%\n",
      "\n",
      "\n",
      "Learning rate: 2.1e-03\n",
      "Number of dense layers: 4\n",
      "Number of dense nodes: 30\n",
      "Activation: tanh\n",
      "Dropout rate: 0.3117423759244277\n",
      "\n"
     ]
    },
    {
     "name": "stderr",
     "output_type": "stream",
     "text": [
      "c:\\Users\\Jacek\\anaconda3\\Lib\\site-packages\\sklearn\\model_selection\\_split.py:776: UserWarning: The least populated class in y has only 2 members, which is less than n_splits=3.\n",
      "  warnings.warn(\n"
     ]
    },
    {
     "name": "stdout",
     "output_type": "stream",
     "text": [
      "Cross-Validation Accuracy: 65.09%\n",
      "\n",
      "\n",
      "Learning rate: 5.4e-05\n",
      "Number of dense layers: 2\n",
      "Number of dense nodes: 73\n",
      "Activation: tanh\n",
      "Dropout rate: 0.09950155309518924\n",
      "\n"
     ]
    },
    {
     "name": "stderr",
     "output_type": "stream",
     "text": [
      "c:\\Users\\Jacek\\anaconda3\\Lib\\site-packages\\sklearn\\model_selection\\_split.py:776: UserWarning: The least populated class in y has only 2 members, which is less than n_splits=3.\n",
      "  warnings.warn(\n"
     ]
    },
    {
     "name": "stdout",
     "output_type": "stream",
     "text": [
      "Cross-Validation Accuracy: 64.86%\n",
      "\n",
      "\n",
      "Learning rate: 5.0e-05\n",
      "Number of dense layers: 2\n",
      "Number of dense nodes: 34\n",
      "Activation: tanh\n",
      "Dropout rate: 0.3329274444816242\n",
      "\n"
     ]
    },
    {
     "name": "stderr",
     "output_type": "stream",
     "text": [
      "c:\\Users\\Jacek\\anaconda3\\Lib\\site-packages\\sklearn\\model_selection\\_split.py:776: UserWarning: The least populated class in y has only 2 members, which is less than n_splits=3.\n",
      "  warnings.warn(\n"
     ]
    },
    {
     "name": "stdout",
     "output_type": "stream",
     "text": [
      "Cross-Validation Accuracy: 2.77%\n",
      "\n",
      "\n",
      "Learning rate: 1.9e-04\n",
      "Number of dense layers: 2\n",
      "Number of dense nodes: 35\n",
      "Activation: tanh\n",
      "Dropout rate: 0.3468807917282583\n",
      "\n"
     ]
    },
    {
     "name": "stderr",
     "output_type": "stream",
     "text": [
      "c:\\Users\\Jacek\\anaconda3\\Lib\\site-packages\\sklearn\\model_selection\\_split.py:776: UserWarning: The least populated class in y has only 2 members, which is less than n_splits=3.\n",
      "  warnings.warn(\n"
     ]
    },
    {
     "name": "stdout",
     "output_type": "stream",
     "text": [
      "Cross-Validation Accuracy: 57.80%\n",
      "\n",
      "\n",
      "Learning rate: 1.4e-04\n",
      "Number of dense layers: 2\n",
      "Number of dense nodes: 32\n",
      "Activation: tanh\n",
      "Dropout rate: 0.07163191808536774\n",
      "\n"
     ]
    },
    {
     "name": "stderr",
     "output_type": "stream",
     "text": [
      "c:\\Users\\Jacek\\anaconda3\\Lib\\site-packages\\sklearn\\model_selection\\_split.py:776: UserWarning: The least populated class in y has only 2 members, which is less than n_splits=3.\n",
      "  warnings.warn(\n"
     ]
    },
    {
     "name": "stdout",
     "output_type": "stream",
     "text": [
      "Cross-Validation Accuracy: 55.85%\n",
      "\n",
      "\n",
      "Learning rate: 9.2e-05\n",
      "Number of dense layers: 3\n",
      "Number of dense nodes: 50\n",
      "Activation: tanh\n",
      "Dropout rate: 0.47780245114855535\n",
      "\n"
     ]
    },
    {
     "name": "stderr",
     "output_type": "stream",
     "text": [
      "c:\\Users\\Jacek\\anaconda3\\Lib\\site-packages\\sklearn\\model_selection\\_split.py:776: UserWarning: The least populated class in y has only 2 members, which is less than n_splits=3.\n",
      "  warnings.warn(\n"
     ]
    },
    {
     "name": "stdout",
     "output_type": "stream",
     "text": [
      "Cross-Validation Accuracy: 12.42%\n",
      "\n",
      "\n",
      "Learning rate: 6.4e-03\n",
      "Number of dense layers: 2\n",
      "Number of dense nodes: 64\n",
      "Activation: tanh\n",
      "Dropout rate: 0.48123758954648854\n",
      "\n"
     ]
    },
    {
     "name": "stderr",
     "output_type": "stream",
     "text": [
      "c:\\Users\\Jacek\\anaconda3\\Lib\\site-packages\\sklearn\\model_selection\\_split.py:776: UserWarning: The least populated class in y has only 2 members, which is less than n_splits=3.\n",
      "  warnings.warn(\n"
     ]
    },
    {
     "name": "stdout",
     "output_type": "stream",
     "text": [
      "Cross-Validation Accuracy: 81.12%\n",
      "\n",
      "\n",
      "Learning rate: 6.2e-03\n",
      "Number of dense layers: 2\n",
      "Number of dense nodes: 59\n",
      "Activation: tanh\n",
      "Dropout rate: 0.48814171503237674\n",
      "\n"
     ]
    },
    {
     "name": "stderr",
     "output_type": "stream",
     "text": [
      "c:\\Users\\Jacek\\anaconda3\\Lib\\site-packages\\sklearn\\model_selection\\_split.py:776: UserWarning: The least populated class in y has only 2 members, which is less than n_splits=3.\n",
      "  warnings.warn(\n"
     ]
    },
    {
     "name": "stdout",
     "output_type": "stream",
     "text": [
      "Cross-Validation Accuracy: 69.67%\n",
      "\n",
      "\n",
      "Learning rate: 7.4e-03\n",
      "Number of dense layers: 3\n",
      "Number of dense nodes: 53\n",
      "Activation: tanh\n",
      "Dropout rate: 0.43902489697752667\n",
      "\n"
     ]
    },
    {
     "name": "stderr",
     "output_type": "stream",
     "text": [
      "c:\\Users\\Jacek\\anaconda3\\Lib\\site-packages\\sklearn\\model_selection\\_split.py:776: UserWarning: The least populated class in y has only 2 members, which is less than n_splits=3.\n",
      "  warnings.warn(\n"
     ]
    },
    {
     "name": "stdout",
     "output_type": "stream",
     "text": [
      "Cross-Validation Accuracy: 65.39%\n",
      "\n",
      "\n",
      "Learning rate: 9.2e-04\n",
      "Number of dense layers: 2\n",
      "Number of dense nodes: 70\n",
      "Activation: tanh\n",
      "Dropout rate: 0.4964991530187453\n",
      "\n"
     ]
    },
    {
     "name": "stderr",
     "output_type": "stream",
     "text": [
      "c:\\Users\\Jacek\\anaconda3\\Lib\\site-packages\\sklearn\\model_selection\\_split.py:776: UserWarning: The least populated class in y has only 2 members, which is less than n_splits=3.\n",
      "  warnings.warn(\n"
     ]
    },
    {
     "name": "stdout",
     "output_type": "stream",
     "text": [
      "Cross-Validation Accuracy: 65.97%\n",
      "\n",
      "\n",
      "Learning rate: 8.6e-04\n",
      "Number of dense layers: 2\n",
      "Number of dense nodes: 49\n",
      "Activation: tanh\n",
      "Dropout rate: 0.019549975607202622\n",
      "\n"
     ]
    },
    {
     "name": "stderr",
     "output_type": "stream",
     "text": [
      "c:\\Users\\Jacek\\anaconda3\\Lib\\site-packages\\sklearn\\model_selection\\_split.py:776: UserWarning: The least populated class in y has only 2 members, which is less than n_splits=3.\n",
      "  warnings.warn(\n"
     ]
    },
    {
     "name": "stdout",
     "output_type": "stream",
     "text": [
      "Cross-Validation Accuracy: 84.65%\n",
      "\n",
      "\n",
      "Learning rate: 9.1e-04\n",
      "Number of dense layers: 2\n",
      "Number of dense nodes: 41\n",
      "Activation: tanh\n",
      "Dropout rate: 0.08516578686874483\n",
      "\n"
     ]
    },
    {
     "name": "stderr",
     "output_type": "stream",
     "text": [
      "c:\\Users\\Jacek\\anaconda3\\Lib\\site-packages\\sklearn\\model_selection\\_split.py:776: UserWarning: The least populated class in y has only 2 members, which is less than n_splits=3.\n",
      "  warnings.warn(\n"
     ]
    },
    {
     "name": "stdout",
     "output_type": "stream",
     "text": [
      "Cross-Validation Accuracy: 74.27%\n",
      "\n",
      "\n",
      "Learning rate: 6.0e-04\n",
      "Number of dense layers: 2\n",
      "Number of dense nodes: 34\n",
      "Activation: tanh\n",
      "Dropout rate: 0.03803700230405322\n",
      "\n"
     ]
    },
    {
     "name": "stderr",
     "output_type": "stream",
     "text": [
      "c:\\Users\\Jacek\\anaconda3\\Lib\\site-packages\\sklearn\\model_selection\\_split.py:776: UserWarning: The least populated class in y has only 2 members, which is less than n_splits=3.\n",
      "  warnings.warn(\n"
     ]
    },
    {
     "name": "stdout",
     "output_type": "stream",
     "text": [
      "Cross-Validation Accuracy: 74.09%\n",
      "\n",
      "\n",
      "Learning rate: 3.3e-04\n",
      "Number of dense layers: 2\n",
      "Number of dense nodes: 39\n",
      "Activation: tanh\n",
      "Dropout rate: 0.11614888229151935\n",
      "\n"
     ]
    },
    {
     "name": "stderr",
     "output_type": "stream",
     "text": [
      "c:\\Users\\Jacek\\anaconda3\\Lib\\site-packages\\sklearn\\model_selection\\_split.py:776: UserWarning: The least populated class in y has only 2 members, which is less than n_splits=3.\n",
      "  warnings.warn(\n"
     ]
    },
    {
     "name": "stdout",
     "output_type": "stream",
     "text": [
      "Cross-Validation Accuracy: 70.92%\n",
      "\n",
      "\n",
      "Learning rate: 3.2e-04\n",
      "Number of dense layers: 2\n",
      "Number of dense nodes: 33\n",
      "Activation: tanh\n",
      "Dropout rate: 0.456367149327627\n",
      "\n"
     ]
    },
    {
     "name": "stderr",
     "output_type": "stream",
     "text": [
      "c:\\Users\\Jacek\\anaconda3\\Lib\\site-packages\\sklearn\\model_selection\\_split.py:776: UserWarning: The least populated class in y has only 2 members, which is less than n_splits=3.\n",
      "  warnings.warn(\n"
     ]
    },
    {
     "name": "stdout",
     "output_type": "stream",
     "text": [
      "Cross-Validation Accuracy: 48.67%\n",
      "\n",
      "\n",
      "Learning rate: 2.0e-04\n",
      "Number of dense layers: 3\n",
      "Number of dense nodes: 47\n",
      "Activation: tanh\n",
      "Dropout rate: 0.36064616999129084\n",
      "\n"
     ]
    },
    {
     "name": "stderr",
     "output_type": "stream",
     "text": [
      "c:\\Users\\Jacek\\anaconda3\\Lib\\site-packages\\sklearn\\model_selection\\_split.py:776: UserWarning: The least populated class in y has only 2 members, which is less than n_splits=3.\n",
      "  warnings.warn(\n"
     ]
    },
    {
     "name": "stdout",
     "output_type": "stream",
     "text": [
      "Cross-Validation Accuracy: 62.23%\n",
      "\n",
      "\n",
      "Learning rate: 6.2e-05\n",
      "Number of dense layers: 2\n",
      "Number of dense nodes: 55\n",
      "Activation: tanh\n",
      "Dropout rate: 0.04968861693114947\n",
      "\n"
     ]
    },
    {
     "name": "stderr",
     "output_type": "stream",
     "text": [
      "c:\\Users\\Jacek\\anaconda3\\Lib\\site-packages\\sklearn\\model_selection\\_split.py:776: UserWarning: The least populated class in y has only 2 members, which is less than n_splits=3.\n",
      "  warnings.warn(\n"
     ]
    },
    {
     "name": "stdout",
     "output_type": "stream",
     "text": [
      "Cross-Validation Accuracy: 53.20%\n",
      "\n",
      "\n",
      "Learning rate: 1.7e-04\n",
      "Number of dense layers: 4\n",
      "Number of dense nodes: 47\n",
      "Activation: tanh\n",
      "Dropout rate: 0.3139714791518294\n",
      "\n"
     ]
    },
    {
     "name": "stderr",
     "output_type": "stream",
     "text": [
      "c:\\Users\\Jacek\\anaconda3\\Lib\\site-packages\\sklearn\\model_selection\\_split.py:776: UserWarning: The least populated class in y has only 2 members, which is less than n_splits=3.\n",
      "  warnings.warn(\n"
     ]
    },
    {
     "name": "stdout",
     "output_type": "stream",
     "text": [
      "Cross-Validation Accuracy: 46.43%\n",
      "\n",
      "\n",
      "Learning rate: 9.4e-04\n",
      "Number of dense layers: 2\n",
      "Number of dense nodes: 72\n",
      "Activation: tanh\n",
      "Dropout rate: 0.012392027980999702\n",
      "\n"
     ]
    },
    {
     "name": "stderr",
     "output_type": "stream",
     "text": [
      "c:\\Users\\Jacek\\anaconda3\\Lib\\site-packages\\sklearn\\model_selection\\_split.py:776: UserWarning: The least populated class in y has only 2 members, which is less than n_splits=3.\n",
      "  warnings.warn(\n"
     ]
    },
    {
     "name": "stdout",
     "output_type": "stream",
     "text": [
      "Cross-Validation Accuracy: 88.55%\n",
      "\n",
      "New best model saved with accuracy: 88.55%\n",
      "\n",
      "\n",
      "Learning rate: 5.3e-04\n",
      "Number of dense layers: 2\n",
      "Number of dense nodes: 73\n",
      "Activation: tanh\n",
      "Dropout rate: 0.008846276700514468\n",
      "\n"
     ]
    },
    {
     "name": "stderr",
     "output_type": "stream",
     "text": [
      "c:\\Users\\Jacek\\anaconda3\\Lib\\site-packages\\sklearn\\model_selection\\_split.py:776: UserWarning: The least populated class in y has only 2 members, which is less than n_splits=3.\n",
      "  warnings.warn(\n"
     ]
    },
    {
     "name": "stdout",
     "output_type": "stream",
     "text": [
      "Cross-Validation Accuracy: 84.91%\n",
      "\n",
      "\n",
      "Learning rate: 5.8e-04\n",
      "Number of dense layers: 2\n",
      "Number of dense nodes: 72\n",
      "Activation: tanh\n",
      "Dropout rate: 0.011964637483695476\n",
      "\n"
     ]
    },
    {
     "name": "stderr",
     "output_type": "stream",
     "text": [
      "c:\\Users\\Jacek\\anaconda3\\Lib\\site-packages\\sklearn\\model_selection\\_split.py:776: UserWarning: The least populated class in y has only 2 members, which is less than n_splits=3.\n",
      "  warnings.warn(\n"
     ]
    },
    {
     "name": "stdout",
     "output_type": "stream",
     "text": [
      "Cross-Validation Accuracy: 85.65%\n",
      "\n",
      "\n",
      "Learning rate: 3.3e-04\n",
      "Number of dense layers: 2\n",
      "Number of dense nodes: 72\n",
      "Activation: tanh\n",
      "Dropout rate: 0.012864275458216782\n",
      "\n"
     ]
    },
    {
     "name": "stderr",
     "output_type": "stream",
     "text": [
      "c:\\Users\\Jacek\\anaconda3\\Lib\\site-packages\\sklearn\\model_selection\\_split.py:776: UserWarning: The least populated class in y has only 2 members, which is less than n_splits=3.\n",
      "  warnings.warn(\n"
     ]
    },
    {
     "name": "stdout",
     "output_type": "stream",
     "text": [
      "Cross-Validation Accuracy: 75.52%\n",
      "\n",
      "\n",
      "Learning rate: 4.6e-04\n",
      "Number of dense layers: 2\n",
      "Number of dense nodes: 68\n",
      "Activation: tanh\n",
      "Dropout rate: 0.06229644341492997\n",
      "\n"
     ]
    },
    {
     "name": "stderr",
     "output_type": "stream",
     "text": [
      "c:\\Users\\Jacek\\anaconda3\\Lib\\site-packages\\sklearn\\model_selection\\_split.py:776: UserWarning: The least populated class in y has only 2 members, which is less than n_splits=3.\n",
      "  warnings.warn(\n"
     ]
    },
    {
     "name": "stdout",
     "output_type": "stream",
     "text": [
      "Cross-Validation Accuracy: 81.08%\n",
      "\n",
      "\n",
      "Learning rate: 3.8e-05\n",
      "Number of dense layers: 2\n",
      "Number of dense nodes: 67\n",
      "Activation: tanh\n",
      "Dropout rate: 0.006586110326572305\n",
      "\n"
     ]
    },
    {
     "name": "stderr",
     "output_type": "stream",
     "text": [
      "c:\\Users\\Jacek\\anaconda3\\Lib\\site-packages\\sklearn\\model_selection\\_split.py:776: UserWarning: The least populated class in y has only 2 members, which is less than n_splits=3.\n",
      "  warnings.warn(\n"
     ]
    },
    {
     "name": "stdout",
     "output_type": "stream",
     "text": [
      "Cross-Validation Accuracy: 41.25%\n",
      "\n",
      "\n",
      "Learning rate: 2.7e-04\n",
      "Number of dense layers: 2\n",
      "Number of dense nodes: 72\n",
      "Activation: tanh\n",
      "Dropout rate: 0.022016846507279923\n",
      "\n"
     ]
    },
    {
     "name": "stderr",
     "output_type": "stream",
     "text": [
      "c:\\Users\\Jacek\\anaconda3\\Lib\\site-packages\\sklearn\\model_selection\\_split.py:776: UserWarning: The least populated class in y has only 2 members, which is less than n_splits=3.\n",
      "  warnings.warn(\n"
     ]
    },
    {
     "name": "stdout",
     "output_type": "stream",
     "text": [
      "Cross-Validation Accuracy: 62.72%\n",
      "\n",
      "\n",
      "Learning rate: 4.3e-04\n",
      "Number of dense layers: 2\n",
      "Number of dense nodes: 59\n",
      "Activation: tanh\n",
      "Dropout rate: 0.00011361049637148571\n",
      "\n"
     ]
    },
    {
     "name": "stderr",
     "output_type": "stream",
     "text": [
      "c:\\Users\\Jacek\\anaconda3\\Lib\\site-packages\\sklearn\\model_selection\\_split.py:776: UserWarning: The least populated class in y has only 2 members, which is less than n_splits=3.\n",
      "  warnings.warn(\n"
     ]
    },
    {
     "name": "stdout",
     "output_type": "stream",
     "text": [
      "Cross-Validation Accuracy: 82.19%\n",
      "\n",
      "\n",
      "Learning rate: 5.2e-04\n",
      "Number of dense layers: 2\n",
      "Number of dense nodes: 63\n",
      "Activation: tanh\n",
      "Dropout rate: 0.01898913711746997\n",
      "\n"
     ]
    },
    {
     "name": "stderr",
     "output_type": "stream",
     "text": [
      "c:\\Users\\Jacek\\anaconda3\\Lib\\site-packages\\sklearn\\model_selection\\_split.py:776: UserWarning: The least populated class in y has only 2 members, which is less than n_splits=3.\n",
      "  warnings.warn(\n"
     ]
    },
    {
     "name": "stdout",
     "output_type": "stream",
     "text": [
      "Cross-Validation Accuracy: 83.02%\n",
      "\n",
      "\n",
      "Learning rate: 8.9e-04\n",
      "Number of dense layers: 2\n",
      "Number of dense nodes: 72\n",
      "Activation: tanh\n",
      "Dropout rate: 0.018630344816250147\n",
      "\n"
     ]
    },
    {
     "name": "stderr",
     "output_type": "stream",
     "text": [
      "c:\\Users\\Jacek\\anaconda3\\Lib\\site-packages\\sklearn\\model_selection\\_split.py:776: UserWarning: The least populated class in y has only 2 members, which is less than n_splits=3.\n",
      "  warnings.warn(\n"
     ]
    },
    {
     "name": "stdout",
     "output_type": "stream",
     "text": [
      "Cross-Validation Accuracy: 86.85%\n",
      "\n",
      "\n",
      "Learning rate: 3.1e-03\n",
      "Number of dense layers: 2\n",
      "Number of dense nodes: 75\n",
      "Activation: tanh\n",
      "Dropout rate: 0.019072845293081345\n",
      "\n"
     ]
    },
    {
     "name": "stderr",
     "output_type": "stream",
     "text": [
      "c:\\Users\\Jacek\\anaconda3\\Lib\\site-packages\\sklearn\\model_selection\\_split.py:776: UserWarning: The least populated class in y has only 2 members, which is less than n_splits=3.\n",
      "  warnings.warn(\n"
     ]
    },
    {
     "name": "stdout",
     "output_type": "stream",
     "text": [
      "Cross-Validation Accuracy: 89.63%\n",
      "\n",
      "New best model saved with accuracy: 89.63%\n",
      "\n",
      "\n",
      "Learning rate: 2.4e-03\n",
      "Number of dense layers: 2\n",
      "Number of dense nodes: 75\n",
      "Activation: tanh\n",
      "Dropout rate: 0.020195260475569025\n",
      "\n"
     ]
    },
    {
     "name": "stderr",
     "output_type": "stream",
     "text": [
      "c:\\Users\\Jacek\\anaconda3\\Lib\\site-packages\\sklearn\\model_selection\\_split.py:776: UserWarning: The least populated class in y has only 2 members, which is less than n_splits=3.\n",
      "  warnings.warn(\n"
     ]
    },
    {
     "name": "stdout",
     "output_type": "stream",
     "text": [
      "Cross-Validation Accuracy: 87.96%\n",
      "\n",
      "\n",
      "Learning rate: 8.8e-04\n",
      "Number of dense layers: 2\n",
      "Number of dense nodes: 75\n",
      "Activation: tanh\n",
      "Dropout rate: 0.0366611334395034\n",
      "\n"
     ]
    },
    {
     "name": "stderr",
     "output_type": "stream",
     "text": [
      "c:\\Users\\Jacek\\anaconda3\\Lib\\site-packages\\sklearn\\model_selection\\_split.py:776: UserWarning: The least populated class in y has only 2 members, which is less than n_splits=3.\n",
      "  warnings.warn(\n"
     ]
    },
    {
     "name": "stdout",
     "output_type": "stream",
     "text": [
      "Cross-Validation Accuracy: 87.59%\n",
      "\n",
      "\n",
      "Learning rate: 3.5e-03\n",
      "Number of dense layers: 2\n",
      "Number of dense nodes: 74\n",
      "Activation: tanh\n",
      "Dropout rate: 0.004635669062023063\n",
      "\n"
     ]
    },
    {
     "name": "stderr",
     "output_type": "stream",
     "text": [
      "c:\\Users\\Jacek\\anaconda3\\Lib\\site-packages\\sklearn\\model_selection\\_split.py:776: UserWarning: The least populated class in y has only 2 members, which is less than n_splits=3.\n",
      "  warnings.warn(\n"
     ]
    },
    {
     "name": "stdout",
     "output_type": "stream",
     "text": [
      "Cross-Validation Accuracy: 90.05%\n",
      "\n",
      "New best model saved with accuracy: 90.05%\n",
      "\n",
      "\n",
      "Learning rate: 5.5e-03\n",
      "Number of dense layers: 2\n",
      "Number of dense nodes: 74\n",
      "Activation: tanh\n",
      "Dropout rate: 0.051359064648829514\n",
      "\n"
     ]
    },
    {
     "name": "stderr",
     "output_type": "stream",
     "text": [
      "c:\\Users\\Jacek\\anaconda3\\Lib\\site-packages\\sklearn\\model_selection\\_split.py:776: UserWarning: The least populated class in y has only 2 members, which is less than n_splits=3.\n",
      "  warnings.warn(\n"
     ]
    },
    {
     "name": "stdout",
     "output_type": "stream",
     "text": [
      "Cross-Validation Accuracy: 84.22%\n",
      "\n",
      "\n",
      "Learning rate: 3.0e-03\n",
      "Number of dense layers: 2\n",
      "Number of dense nodes: 68\n",
      "Activation: tanh\n",
      "Dropout rate: 0.014583811019836749\n",
      "\n"
     ]
    },
    {
     "name": "stderr",
     "output_type": "stream",
     "text": [
      "c:\\Users\\Jacek\\anaconda3\\Lib\\site-packages\\sklearn\\model_selection\\_split.py:776: UserWarning: The least populated class in y has only 2 members, which is less than n_splits=3.\n",
      "  warnings.warn(\n"
     ]
    },
    {
     "name": "stdout",
     "output_type": "stream",
     "text": [
      "Cross-Validation Accuracy: 88.89%\n",
      "\n",
      "\n",
      "Learning rate: 9.5e-04\n",
      "Number of dense layers: 2\n",
      "Number of dense nodes: 71\n",
      "Activation: tanh\n",
      "Dropout rate: 0.040501737888487994\n",
      "\n"
     ]
    },
    {
     "name": "stderr",
     "output_type": "stream",
     "text": [
      "c:\\Users\\Jacek\\anaconda3\\Lib\\site-packages\\sklearn\\model_selection\\_split.py:776: UserWarning: The least populated class in y has only 2 members, which is less than n_splits=3.\n",
      "  warnings.warn(\n"
     ]
    },
    {
     "name": "stdout",
     "output_type": "stream",
     "text": [
      "Cross-Validation Accuracy: 86.51%\n",
      "\n",
      "\n",
      "Learning rate: 2.3e-03\n",
      "Number of dense layers: 2\n",
      "Number of dense nodes: 68\n",
      "Activation: tanh\n",
      "Dropout rate: 0.0017840095698161145\n",
      "\n"
     ]
    },
    {
     "name": "stderr",
     "output_type": "stream",
     "text": [
      "c:\\Users\\Jacek\\anaconda3\\Lib\\site-packages\\sklearn\\model_selection\\_split.py:776: UserWarning: The least populated class in y has only 2 members, which is less than n_splits=3.\n",
      "  warnings.warn(\n"
     ]
    },
    {
     "name": "stdout",
     "output_type": "stream",
     "text": [
      "Cross-Validation Accuracy: 89.65%\n",
      "\n",
      "\n",
      "Learning rate: 2.1e-03\n",
      "Number of dense layers: 2\n",
      "Number of dense nodes: 69\n",
      "Activation: tanh\n",
      "Dropout rate: 0.0008013087966617929\n",
      "\n"
     ]
    },
    {
     "name": "stderr",
     "output_type": "stream",
     "text": [
      "c:\\Users\\Jacek\\anaconda3\\Lib\\site-packages\\sklearn\\model_selection\\_split.py:776: UserWarning: The least populated class in y has only 2 members, which is less than n_splits=3.\n",
      "  warnings.warn(\n"
     ]
    },
    {
     "name": "stdout",
     "output_type": "stream",
     "text": [
      "Cross-Validation Accuracy: 89.43%\n",
      "\n",
      "\n",
      "Learning rate: 6.3e-03\n",
      "Number of dense layers: 2\n",
      "Number of dense nodes: 57\n",
      "Activation: tanh\n",
      "Dropout rate: 0.006103797504886989\n",
      "\n"
     ]
    },
    {
     "name": "stderr",
     "output_type": "stream",
     "text": [
      "c:\\Users\\Jacek\\anaconda3\\Lib\\site-packages\\sklearn\\model_selection\\_split.py:776: UserWarning: The least populated class in y has only 2 members, which is less than n_splits=3.\n",
      "  warnings.warn(\n"
     ]
    },
    {
     "name": "stdout",
     "output_type": "stream",
     "text": [
      "Cross-Validation Accuracy: 86.59%\n",
      "\n",
      "\n",
      "Learning rate: 1.9e-03\n",
      "Number of dense layers: 2\n",
      "Number of dense nodes: 63\n",
      "Activation: tanh\n",
      "Dropout rate: 0.005671954759067067\n",
      "\n"
     ]
    },
    {
     "name": "stderr",
     "output_type": "stream",
     "text": [
      "c:\\Users\\Jacek\\anaconda3\\Lib\\site-packages\\sklearn\\model_selection\\_split.py:776: UserWarning: The least populated class in y has only 2 members, which is less than n_splits=3.\n",
      "  warnings.warn(\n"
     ]
    },
    {
     "name": "stdout",
     "output_type": "stream",
     "text": [
      "Cross-Validation Accuracy: 89.25%\n",
      "\n",
      "\n",
      "Learning rate: 2.4e-03\n",
      "Number of dense layers: 2\n",
      "Number of dense nodes: 48\n",
      "Activation: tanh\n",
      "Dropout rate: 0.007371341182598358\n",
      "\n"
     ]
    },
    {
     "name": "stderr",
     "output_type": "stream",
     "text": [
      "c:\\Users\\Jacek\\anaconda3\\Lib\\site-packages\\sklearn\\model_selection\\_split.py:776: UserWarning: The least populated class in y has only 2 members, which is less than n_splits=3.\n",
      "  warnings.warn(\n"
     ]
    },
    {
     "name": "stdout",
     "output_type": "stream",
     "text": [
      "Cross-Validation Accuracy: 88.74%\n",
      "\n",
      "\n",
      "Learning rate: 3.2e-03\n",
      "Number of dense layers: 2\n",
      "Number of dense nodes: 47\n",
      "Activation: tanh\n",
      "Dropout rate: 0.01825124762468167\n",
      "\n"
     ]
    },
    {
     "name": "stderr",
     "output_type": "stream",
     "text": [
      "c:\\Users\\Jacek\\anaconda3\\Lib\\site-packages\\sklearn\\model_selection\\_split.py:776: UserWarning: The least populated class in y has only 2 members, which is less than n_splits=3.\n",
      "  warnings.warn(\n"
     ]
    },
    {
     "name": "stdout",
     "output_type": "stream",
     "text": [
      "Cross-Validation Accuracy: 88.42%\n",
      "\n",
      "\n",
      "Learning rate: 2.9e-03\n",
      "Number of dense layers: 2\n",
      "Number of dense nodes: 42\n",
      "Activation: tanh\n",
      "Dropout rate: 0.0010276144465505845\n",
      "\n"
     ]
    },
    {
     "name": "stderr",
     "output_type": "stream",
     "text": [
      "c:\\Users\\Jacek\\anaconda3\\Lib\\site-packages\\sklearn\\model_selection\\_split.py:776: UserWarning: The least populated class in y has only 2 members, which is less than n_splits=3.\n",
      "  warnings.warn(\n"
     ]
    },
    {
     "name": "stdout",
     "output_type": "stream",
     "text": [
      "Cross-Validation Accuracy: 88.35%\n",
      "\n",
      "Czas wykonania: 8363.456908999942 sekund\n"
     ]
    }
   ],
   "source": [
    "start_time = time.perf_counter() \n",
    "fm_ = forest_minimize(\n",
    "    objective,  # the objective function to minimize\n",
    "    param_grid,  # the hyperparameter space\n",
    "    x0=default_parameters,  # the initial parameters to test\n",
    "    acq_func='EI',  # the acquisition function\n",
    "    n_calls=100,  # the number of subsequent evaluations of f(x)\n",
    "    random_state=0,\n",
    ")\n",
    "end_time = time.perf_counter()\n",
    "execution_time = end_time - start_time\n",
    "print(f\"Czas wykonania: {execution_time} sekund\")"
   ]
  },
  {
   "cell_type": "markdown",
   "metadata": {},
   "source": [
    "### <a name=\"11\"></a> 11. Wyświetlenie najlepszych wyników\n",
    "\n",
    "- **Dokładność (accuracy):** wyświetlenie najlepszej osiągniętej dokładności.\n",
    "- **Najlepsze hiperparametry:** wyświetlenie optymalnych wartości hiperparametrów.\n",
    "- **Przestrzeń poszukiwań (fm_space):** analiza przestrzeni hiperparametrów."
   ]
  },
  {
   "cell_type": "code",
   "execution_count": 14,
   "metadata": {},
   "outputs": [
    {
     "data": {
      "text/plain": [
       "'Najlepsze dokładność=-0.9005'"
      ]
     },
     "execution_count": 14,
     "metadata": {},
     "output_type": "execute_result"
    }
   ],
   "source": [
    "\"Najlepsze dokładność=%.4f\" % fm_.fun"
   ]
  },
  {
   "cell_type": "code",
   "execution_count": 24,
   "metadata": {},
   "outputs": [
    {
     "name": "stdout",
     "output_type": "stream",
     "text": [
      "Najlepsze hiperparametry:\n",
      "=========================\n",
      "- learning rate=0.003499\n",
      "- num_dense_layers=2\n",
      "- num_nodes=74\n",
      "- activation = tanh\n",
      "-dropout rate = 0 \n"
     ]
    }
   ],
   "source": [
    "print(\"\"\"Najlepsze hiperparametry:\n",
    "=========================\n",
    "- learning rate=%.6f\n",
    "- num_dense_layers=%d\n",
    "- num_nodes=%d\n",
    "- activation = %s\n",
    "-dropout rate = %d \"\"\" % (fm_.x[0],\n",
    "                fm_.x[1],\n",
    "                fm_.x[2],\n",
    "                fm_.x[3],\n",
    "                fm_.x[4]))"
   ]
  },
  {
   "cell_type": "code",
   "execution_count": 16,
   "metadata": {},
   "outputs": [
    {
     "data": {
      "text/plain": [
       "Space([Real(low=1e-06, high=0.01, prior='log-uniform', transform='identity'),\n",
       "       Integer(low=2, high=4, prior='uniform', transform='identity'),\n",
       "       Integer(low=16, high=80, prior='uniform', transform='identity'),\n",
       "       Categorical(categories=('relu', 'sigmoid', 'tanh'), prior=None),\n",
       "       Real(low=0.0, high=0.5, prior='uniform', transform='identity')])"
      ]
     },
     "execution_count": 16,
     "metadata": {},
     "output_type": "execute_result"
    }
   ],
   "source": [
    "fm_.space"
   ]
  },
  {
   "cell_type": "markdown",
   "metadata": {},
   "source": [
    "### <a name=\"12\"></a> 12. Wykres konwergencji\n",
    "\n",
    "\n"
   ]
  },
  {
   "cell_type": "code",
   "execution_count": 17,
   "metadata": {},
   "outputs": [
    {
     "data": {
      "image/png": "[encoded data removed]",
      "text/plain": [
       "<Figure size 640x480 with 1 Axes>"
      ]
     },
     "metadata": {},
     "output_type": "display_data"
    }
   ],
   "source": [
    "fig = plot_convergence(fm_)\n",
    "\n",
    "plt.title(\"Wykres zbieżności f(x)\")\n",
    "plt.xlabel(\"Liczba wywołań n\")\n",
    "plt.ylabel(\"min(f(x)) po n wywołaniach\")\n",
    "\n",
    "fig.figure.savefig('wykres_zbieznosci.jpg', format='jpg', dpi=300)\n",
    "\n",
    "plt.show()"
   ]
  },
  {
   "cell_type": "code",
   "execution_count": 18,
   "metadata": {},
   "outputs": [
    {
     "name": "stdout",
     "output_type": "stream",
     "text": [
      "Dane zapisano do pliku: convergence_data.txt\n"
     ]
    }
   ],
   "source": [
    "# Wyodrębnienie danych z fm_\n",
    "iterations = range(len(fm_.func_vals))  # Liczba iteracji\n",
    "losses = fm_.func_vals                 # Wartości funkcji celu (f(x))\n",
    "cumulative_min = np.minimum.accumulate(losses)  # Minimalne wartości f(x) do danej iteracji\n",
    "\n",
    "# Przygotowanie danych do zapisu\n",
    "data_to_save = np.column_stack((iterations, losses, cumulative_min))\n",
    "\n",
    "# Zapis danych do pliku tekstowego\n",
    "file_path = \"convergence_data.txt\"\n",
    "np.savetxt(file_path, data_to_save, delimiter=',', header=\"Iteration,Loss,Cumulative_Min\", fmt='%.6f', comments='')\n",
    "\n",
    "print(f\"Dane zapisano do pliku: {file_path}\")"
   ]
  },
  {
   "cell_type": "markdown",
   "metadata": {},
   "source": [
    "### <a name=\"13\"></a> 13. Wykres wartości funkcji celu w każdej iteracji"
   ]
  },
  {
   "cell_type": "code",
   "execution_count": 19,
   "metadata": {},
   "outputs": [
    {
     "data": {
      "image/png": "[encoded data removed]",
      "text/plain": [
       "<Figure size 800x600 with 1 Axes>"
      ]
     },
     "metadata": {},
     "output_type": "display_data"
    }
   ],
   "source": [
    "plt.figure(figsize=(8, 6))\n",
    "plt.plot(range(1, len(fm_.func_vals) + 1), fm_.func_vals, marker='o', label='Wartości funkcji celu')\n",
    "plt.xlabel(\"Iteracje\")\n",
    "plt.ylabel(\"Wartość funkcji celu\")\n",
    "plt.title(\"Wartości funkcji celu w każdej iteracji\")\n",
    "plt.grid()\n",
    "plt.legend(loc='upper right', fontsize=8)\n",
    "plt.savefig('wyniki_funkcji_celu.png', dpi=300, bbox_inches='tight')\n",
    "\n",
    "plt.show()\n"
   ]
  },
  {
   "cell_type": "code",
   "execution_count": 20,
   "metadata": {},
   "outputs": [
    {
     "name": "stdout",
     "output_type": "stream",
     "text": [
      "Dane zapisano do pliku: function_values.txt\n"
     ]
    }
   ],
   "source": [
    "# Wyodrębnienie danych\n",
    "iterations = range(1, len(fm_.func_vals) + 1)  # Numery iteracji (1, 2, ..., n)\n",
    "losses = fm_.func_vals                         # Wartości funkcji celu\n",
    "\n",
    "# Przygotowanie danych do zapisu\n",
    "data_to_save = np.column_stack((iterations, losses))\n",
    "\n",
    "# Zapis danych do pliku tekstowego\n",
    "file_path = \"function_values.txt\"\n",
    "np.savetxt(file_path, data_to_save, delimiter=',', header=\"Iteration,Loss\", fmt='%d,%.6f', comments='')\n",
    "\n",
    "print(f\"Dane zapisano do pliku: {file_path}\")"
   ]
  },
  {
   "cell_type": "markdown",
   "metadata": {},
   "source": [
    "### <a name=\"14\"></a> 14. Lista hiperparametrów dla kolejnych iteracji"
   ]
  },
  {
   "cell_type": "code",
   "execution_count": 21,
   "metadata": {},
   "outputs": [
    {
     "name": "stdout",
     "output_type": "stream",
     "text": [
      "Iteracja 1: Hiperparametry = [1e-05, 2, 32, 'relu', 0.3], Wartość funkcji celu = -0.03088962286710739\n",
      "Iteracja 2: Hiperparametry = [0.00023516813385771865, 2, 25, 'sigmoid', 0.19219085364634997], Wartość funkcji celu = -0.11606584309690031\n",
      "Iteracja 3: Hiperparametry = [1.5493103643906705e-05, 2, 28, 'sigmoid', 0.3958625190413324], Wartość funkcji celu = -0.008444427861832082\n",
      "Iteracja 4: Hiperparametry = [0.00013049073550362405, 2, 53, 'tanh', 0.16869808020863422], Wartość funkcji celu = -0.5925680696964264\n",
      "Iteracja 5: Hiperparametry = [0.0003914600869268913, 2, 63, 'tanh', 0.2368040226368553], Wartość funkcji celu = -0.7643631895383199\n",
      "Iteracja 6: Hiperparametry = [0.0015982437247411508, 3, 35, 'tanh', 0.36031632736295843], Wartość funkcji celu = -0.6466277440388998\n",
      "Iteracja 7: Hiperparametry = [0.00021285270235317323, 3, 48, 'sigmoid', 0.20733096999526185], Wartość funkcji celu = -0.17862849163551195\n",
      "Iteracja 8: Hiperparametry = [1.1434638743472203e-05, 4, 71, 'relu', 0.06760908670272604], Wartość funkcji celu = -0.24851753190159798\n",
      "Iteracja 9: Hiperparametry = [1.9795388574374414e-05, 3, 54, 'relu', 0.19324449056293103], Wartość funkcji celu = -0.11704842457159732\n",
      "Iteracja 10: Hiperparametry = [0.004077499365367615, 4, 74, 'sigmoid', 0.45117429158699224], Wartość funkcji celu = -0.15618617832660675\n",
      "Iteracja 11: Hiperparametry = [2.4952921562839635e-06, 3, 51, 'sigmoid', 0.08545479256802259], Wartość funkcji celu = -0.007819320249836892\n",
      "Iteracja 12: Hiperparametry = [0.0010063396049315317, 4, 47, 'tanh', 0.34742097301484365], Wartość funkcji celu = -0.6926009257634481\n",
      "Iteracja 13: Hiperparametry = [0.0014471909878364367, 4, 39, 'tanh', 0.18775801101746709], Wartość funkcji celu = -0.7313781976699829\n",
      "Iteracja 14: Hiperparametry = [1.1642019133836367e-06, 3, 58, 'tanh', 0.32070026085717124], Wartość funkcji celu = -0.003721119045318725\n",
      "Iteracja 15: Hiperparametry = [0.0001453055022210877, 2, 71, 'tanh', 0.26252512606383194], Wartość funkcji celu = -0.6227636436621348\n",
      "Iteracja 16: Hiperparametry = [0.004243755867759778, 4, 78, 'tanh', 0.29186892390533675], Wartość funkcji celu = -0.7253554662068685\n",
      "Iteracja 17: Hiperparametry = [0.0003871828685691739, 4, 64, 'tanh', 0.47078458699546416], Wartość funkcji celu = -0.6532965103785197\n",
      "Iteracja 18: Hiperparametry = [0.0008638136705940983, 3, 62, 'tanh', 0.07341355140566903], Wartość funkcji celu = -0.8494811654090881\n",
      "Iteracja 19: Hiperparametry = [0.0011848380513629095, 3, 61, 'tanh', 0.13488134914294517], Wartość funkcji celu = -0.7314599355061849\n",
      "Iteracja 20: Hiperparametry = [0.0029739974865873675, 3, 60, 'tanh', 0.25308777270324984], Wartość funkcji celu = -0.7578044931093851\n",
      "Iteracja 21: Hiperparametry = [0.0006474454826672361, 3, 60, 'tanh', 0.3166281904857937], Wartość funkcji celu = -0.6041983962059021\n",
      "Iteracja 22: Hiperparametry = [5.256742691727476e-06, 3, 61, 'tanh', 0.17285225362510429], Wartość funkcji celu = -0.36116207608332235\n",
      "Iteracja 23: Hiperparametry = [0.0012207594261402174, 3, 58, 'tanh', 0.3089236083306009], Wartość funkcji celu = -0.7023560007413229\n",
      "Iteracja 24: Hiperparametry = [0.0014715186281291804, 3, 58, 'tanh', 0.3231883600968112], Wartość funkcji celu = -0.779991090297699\n",
      "Iteracja 25: Hiperparametry = [0.0007343494428878031, 3, 58, 'tanh', 0.014399291050893607], Wartość funkcji celu = -0.705143928527832\n",
      "Iteracja 26: Hiperparametry = [0.000145825590642065, 3, 63, 'tanh', 0.050508489542785265], Wartość funkcji celu = -0.5094165404637655\n",
      "Iteracja 27: Hiperparametry = [0.000465025815102231, 3, 59, 'tanh', 0.3281083509505832], Wartość funkcji celu = -0.6275782386461893\n",
      "Iteracja 28: Hiperparametry = [0.00036575667637164734, 3, 61, 'tanh', 0.4942872528534116], Wartość funkcji celu = -0.7245431145032247\n",
      "Iteracja 29: Hiperparametry = [0.0003064750488232192, 3, 62, 'tanh', 0.3193534189460518], Wartość funkcji celu = -0.7060875296592712\n",
      "Iteracja 30: Hiperparametry = [0.0002898369899754607, 3, 58, 'tanh', 0.4695527923831025], Wartość funkcji celu = -0.6444271802902222\n",
      "Iteracja 31: Hiperparametry = [0.00028715811110676813, 3, 54, 'tanh', 0.2759625143124529], Wartość funkcji celu = -0.7271127899487814\n",
      "Iteracja 32: Hiperparametry = [0.00028882319024789264, 3, 56, 'tanh', 0.2594923427888678], Wartość funkcji celu = -0.5841852327187856\n",
      "Iteracja 33: Hiperparametry = [1.2122162498947556e-05, 4, 58, 'tanh', 0.3095769091044626], Wartość funkcji celu = -0.07380507133590679\n",
      "Iteracja 34: Hiperparametry = [5.734660720916265e-05, 4, 31, 'tanh', 0.4140493866010599], Wartość funkcji celu = -0.014566748344805092\n",
      "Iteracja 35: Hiperparametry = [0.0015799420143638417, 4, 34, 'tanh', 0.1458921787735992], Wartość funkcji celu = -0.6974742611249288\n",
      "Iteracja 36: Hiperparametry = [0.0005944404085403212, 4, 27, 'tanh', 0.1511646461516358], Wartość funkcji celu = -0.6341550548871359\n",
      "Iteracja 37: Hiperparametry = [0.0003504330847015851, 4, 28, 'tanh', 0.42945383723978686], Wartość funkcji celu = -0.4654258042573929\n",
      "Iteracja 38: Hiperparametry = [0.003432619008336372, 4, 77, 'tanh', 0.40397254727549814], Wartość funkcji celu = -0.7391600807507833\n",
      "Iteracja 39: Hiperparametry = [0.005183447528311935, 4, 22, 'tanh', 0.4033097331698996], Wartość funkcji celu = -0.32889123757680255\n",
      "Iteracja 40: Hiperparametry = [0.006689802960337917, 4, 49, 'tanh', 0.40342071449681444], Wartość funkcji celu = -0.43078779180844623\n",
      "Iteracja 41: Hiperparametry = [7.649778464152635e-05, 4, 38, 'tanh', 0.11278544875374982], Wartość funkcji celu = -0.2601137952879071\n",
      "Iteracja 42: Hiperparametry = [0.001216519730483946, 3, 30, 'tanh', 0.015748050850559973], Wartość funkcji celu = -0.7829789717992147\n",
      "Iteracja 43: Hiperparametry = [0.001065709669226598, 3, 22, 'tanh', 0.023987819446946897], Wartość funkcji celu = -0.7185490926106771\n",
      "Iteracja 44: Hiperparametry = [0.00023513646571064197, 4, 66, 'tanh', 0.3902879419440368], Wartość funkcji celu = -0.5557484726111094\n",
      "Iteracja 45: Hiperparametry = [0.00026680654214978613, 3, 23, 'tanh', 0.0004898612664814285], Wartość funkcji celu = -0.5828563968340555\n",
      "Iteracja 46: Hiperparametry = [0.0012328958214606676, 3, 18, 'tanh', 0.45088497678772305], Wartość funkcji celu = -0.5603097180525461\n",
      "Iteracja 47: Hiperparametry = [7.028094556518831e-05, 2, 67, 'tanh', 0.4789092498201977], Wartość funkcji celu = -0.4576975504557292\n",
      "Iteracja 48: Hiperparametry = [0.0003188015555997466, 4, 43, 'tanh', 0.021020270694223523], Wartość funkcji celu = -0.6504490375518799\n",
      "Iteracja 49: Hiperparametry = [0.005940040275446936, 2, 59, 'tanh', 0.10055130881239174], Wartość funkcji celu = -0.8538966576258341\n",
      "Iteracja 50: Hiperparametry = [0.007921011655771922, 4, 61, 'tanh', 0.07183175354259881], Wartość funkcji celu = -0.5574722290039062\n",
      "Iteracja 51: Hiperparametry = [0.006074131288186, 2, 70, 'tanh', 0.07335594842835676], Wartość funkcji celu = -0.8064961036046346\n",
      "Iteracja 52: Hiperparametry = [0.004697139663198463, 2, 20, 'tanh', 0.30144110651241973], Wartość funkcji celu = -0.6794443627198538\n",
      "Iteracja 53: Hiperparametry = [0.004735253570302195, 2, 43, 'tanh', 0.3335993762024971], Wartość funkcji celu = -0.6966401735941569\n",
      "Iteracja 54: Hiperparametry = [0.004758651681403633, 2, 70, 'tanh', 0.40280111993655704], Wartość funkcji celu = -0.7424241304397583\n",
      "Iteracja 55: Hiperparametry = [0.00011007873467901418, 4, 73, 'tanh', 0.4475355138807238], Wartość funkcji celu = -0.5118459860483805\n",
      "Iteracja 56: Hiperparametry = [0.006486319679624381, 3, 78, 'tanh', 0.08405516540038156], Wartość funkcji celu = -0.8104551633199056\n",
      "Iteracja 57: Hiperparametry = [0.008150237786129964, 2, 25, 'tanh', 0.06300302816215005], Wartość funkcji celu = -0.7063756982485453\n",
      "Iteracja 58: Hiperparametry = [0.006935838899183639, 3, 64, 'tanh', 0.09930289430047909], Wartość funkcji celu = -0.7406482299168905\n",
      "Iteracja 59: Hiperparametry = [0.002103656721391744, 4, 30, 'tanh', 0.3117423759244277], Wartość funkcji celu = -0.6508678396542867\n",
      "Iteracja 60: Hiperparametry = [5.4040943111458345e-05, 2, 73, 'tanh', 0.09950155309518924], Wartość funkcji celu = -0.6485840280850729\n",
      "Iteracja 61: Hiperparametry = [5.0204730128054596e-05, 2, 34, 'tanh', 0.3329274444816242], Wartość funkcji celu = -0.027714137453585863\n",
      "Iteracja 62: Hiperparametry = [0.00018655571153077446, 2, 35, 'tanh', 0.3468807917282583], Wartość funkcji celu = -0.5779731571674347\n",
      "Iteracja 63: Hiperparametry = [0.00013877210697096044, 2, 32, 'tanh', 0.07163191808536774], Wartość funkcji celu = -0.5585338771343231\n",
      "Iteracja 64: Hiperparametry = [9.153266018845427e-05, 3, 50, 'tanh', 0.47780245114855535], Wartość funkcji celu = -0.12422243412584066\n",
      "Iteracja 65: Hiperparametry = [0.006415184850691588, 2, 64, 'tanh', 0.48123758954648854], Wartość funkcji celu = -0.8112184405326843\n",
      "Iteracja 66: Hiperparametry = [0.006170373113001248, 2, 59, 'tanh', 0.48814171503237674], Wartość funkcji celu = -0.6966805458068848\n",
      "Iteracja 67: Hiperparametry = [0.007444314157211787, 3, 53, 'tanh', 0.43902489697752667], Wartość funkcji celu = -0.6539113918940226\n",
      "Iteracja 68: Hiperparametry = [0.0009201536669172951, 2, 70, 'tanh', 0.4964991530187453], Wartość funkcji celu = -0.6596775650978088\n",
      "Iteracja 69: Hiperparametry = [0.0008556815956924415, 2, 49, 'tanh', 0.019549975607202622], Wartość funkcji celu = -0.8464646140734354\n",
      "Iteracja 70: Hiperparametry = [0.0009070236927639941, 2, 41, 'tanh', 0.08516578686874483], Wartość funkcji celu = -0.7427215774854025\n",
      "Iteracja 71: Hiperparametry = [0.0005961084858128628, 2, 34, 'tanh', 0.03803700230405322], Wartość funkcji celu = -0.740946094195048\n",
      "Iteracja 72: Hiperparametry = [0.0003275484765568673, 2, 39, 'tanh', 0.11614888229151935], Wartość funkcji celu = -0.7092222571372986\n",
      "Iteracja 73: Hiperparametry = [0.00031596779765220487, 2, 33, 'tanh', 0.456367149327627], Wartość funkcji celu = -0.48673245310783386\n",
      "Iteracja 74: Hiperparametry = [0.00019603642176242223, 3, 47, 'tanh', 0.36064616999129084], Wartość funkcji celu = -0.622309406598409\n",
      "Iteracja 75: Hiperparametry = [6.17419789475983e-05, 2, 55, 'tanh', 0.04968861693114947], Wartość funkcji celu = -0.5320405066013336\n",
      "Iteracja 76: Hiperparametry = [0.00016924722199880037, 4, 47, 'tanh', 0.3139714791518294], Wartość funkcji celu = -0.4642782211303711\n",
      "Iteracja 77: Hiperparametry = [0.0009384316482876431, 2, 72, 'tanh', 0.012392027980999702], Wartość funkcji celu = -0.8854809204737345\n",
      "Iteracja 78: Hiperparametry = [0.0005269874879909077, 2, 73, 'tanh', 0.008846276700514468], Wartość funkcji celu = -0.8491039276123047\n",
      "Iteracja 79: Hiperparametry = [0.0005775649579545434, 2, 72, 'tanh', 0.011964637483695476], Wartość funkcji celu = -0.8565260767936707\n",
      "Iteracja 80: Hiperparametry = [0.000327567743201089, 2, 72, 'tanh', 0.012864275458216782], Wartość funkcji celu = -0.7551834980646769\n",
      "Iteracja 81: Hiperparametry = [0.00046239138845915616, 2, 68, 'tanh', 0.06229644341492997], Wartość funkcji celu = -0.810812254746755\n",
      "Iteracja 82: Hiperparametry = [3.755704216262686e-05, 2, 67, 'tanh', 0.006586110326572305], Wartość funkcji celu = -0.4125298659006755\n",
      "Iteracja 83: Hiperparametry = [0.0002734896350260332, 2, 72, 'tanh', 0.022016846507279923], Wartość funkcji celu = -0.627220888932546\n",
      "Iteracja 84: Hiperparametry = [0.0004301276873785682, 2, 59, 'tanh', 0.00011361049637148571], Wartość funkcji celu = -0.8219152887662252\n",
      "Iteracja 85: Hiperparametry = [0.0005162726443502469, 2, 63, 'tanh', 0.01898913711746997], Wartość funkcji celu = -0.8302008112271627\n",
      "Iteracja 86: Hiperparametry = [0.0008855323529406581, 2, 72, 'tanh', 0.018630344816250147], Wartość funkcji celu = -0.868473211924235\n",
      "Iteracja 87: Hiperparametry = [0.0030857797971708565, 2, 75, 'tanh', 0.019072845293081345], Wartość funkcji celu = -0.8963165481885275\n",
      "Iteracja 88: Hiperparametry = [0.0023972540997514026, 2, 75, 'tanh', 0.020195260475569025], Wartość funkcji celu = -0.8796461224555969\n",
      "Iteracja 89: Hiperparametry = [0.0008762624415618405, 2, 75, 'tanh', 0.0366611334395034], Wartość funkcji celu = -0.8759053945541382\n",
      "Iteracja 90: Hiperparametry = [0.0034993313978773934, 2, 74, 'tanh', 0.004635669062023063], Wartość funkcji celu = -0.9004543423652649\n",
      "Iteracja 91: Hiperparametry = [0.005526849764880486, 2, 74, 'tanh', 0.051359064648829514], Wartość funkcji celu = -0.8421977758407593\n",
      "Iteracja 92: Hiperparametry = [0.0030071112658263534, 2, 68, 'tanh', 0.014583811019836749], Wartość funkcji celu = -0.8889142473538717\n",
      "Iteracja 93: Hiperparametry = [0.0009535122706750567, 2, 71, 'tanh', 0.040501737888487994], Wartość funkcji celu = -0.8650600910186768\n",
      "Iteracja 94: Hiperparametry = [0.0022788578097120353, 2, 68, 'tanh', 0.0017840095698161145], Wartość funkcji celu = -0.8965051968892416\n",
      "Iteracja 95: Hiperparametry = [0.002134319196419071, 2, 69, 'tanh', 0.0008013087966617929], Wartość funkcji celu = -0.8942625125249227\n",
      "Iteracja 96: Hiperparametry = [0.006297832845984362, 2, 57, 'tanh', 0.006103797504886989], Wartość funkcji celu = -0.8658727804819742\n",
      "Iteracja 97: Hiperparametry = [0.0018816750127270722, 2, 63, 'tanh', 0.005671954759067067], Wartość funkcji celu = -0.8924665252367655\n",
      "Iteracja 98: Hiperparametry = [0.0024026123253506277, 2, 48, 'tanh', 0.007371341182598358], Wartość funkcji celu = -0.8874455491701762\n",
      "Iteracja 99: Hiperparametry = [0.0032381135376695217, 2, 47, 'tanh', 0.01825124762468167], Wartość funkcji celu = -0.884181002775828\n",
      "Iteracja 100: Hiperparametry = [0.0029229058122255645, 2, 42, 'tanh', 0.0010276144465505845], Wartość funkcji celu = -0.8835061391194662\n",
      "Najlepsze hiperparametry: [0.0034993313978773934, 2, 74, 'tanh', 0.004635669062023063]\n",
      "Najlepsza wartość funkcji celu: -0.9004543423652649\n"
     ]
    }
   ],
   "source": [
    "for i, (params, value) in enumerate(zip(fm_.x_iters, fm_.func_vals)):\n",
    "    print(f\"Iteracja {i+1}: Hiperparametry = {params}, Wartość funkcji celu = {value}\")\n",
    "\n",
    "# Najlepsze rozwiązanie\n",
    "print(f\"Najlepsze hiperparametry: {fm_.x}\")\n",
    "print(f\"Najlepsza wartość funkcji celu: {fm_.fun}\")"
   ]
  },
  {
   "cell_type": "markdown",
   "metadata": {},
   "source": [
    "### <a name=\"15\"></a> 15.Wykres plot_objective"
   ]
  },
  {
   "cell_type": "code",
   "execution_count": 22,
   "metadata": {},
   "outputs": [
    {
     "data": {
      "image/png": "[encoded data removed]",
      "text/plain": [
       "<Figure size 800x800 with 17 Axes>"
      ]
     },
     "metadata": {},
     "output_type": "display_data"
    }
   ],
   "source": [
    "dim_names = ['learning_rate', 'num_dense_layers', 'num_dense_nodes', 'activation']  # Dodano brakujące wymiary\n",
    "fig2 = plot_objective(result=fm_, plot_dims=dim_names)  # Użycie wszystkich wymiarów\n",
    "plt.show()\n",
    "\n",
    "# Zapisanie wykresu\n",
    "fig2.figure.savefig('plot_objective_updated.jpg', format='jpg', dpi=300)"
   ]
  },
  {
   "cell_type": "markdown",
   "metadata": {},
   "source": [
    "### <a name=\"16\"></a> 16. Testowanie modelu na zbiorze walidacyjnym, testowym"
   ]
  },
  {
   "cell_type": "code",
   "execution_count": 26,
   "metadata": {},
   "outputs": [
    {
     "name": "stdout",
     "output_type": "stream",
     "text": [
      "\u001b[1m705/705\u001b[0m \u001b[32m━━━━━━━━━━━━━━━━━━━━\u001b[0m\u001b[37m\u001b[0m \u001b[1m1s\u001b[0m 944us/step - accuracy: 0.6625 - loss: 0.1392\n",
      "Test Loss: 0.1411886215209961\n",
      "Test Accuracy: 0.6615064144134521\n"
     ]
    }
   ],
   "source": [
    "model = load_model('cnn_model.keras')\n",
    "loss, accuracy = model.evaluate(X_test, y_test, verbose=1)\n",
    "\n",
    "print(f\"Test Loss: {loss}\")\n",
    "print(f\"Test Accuracy: {accuracy}\")"
   ]
  }
 ],
 "metadata": {
  "kernelspec": {
   "display_name": "base",
   "language": "python",
   "name": "python3"
  },
  "language_info": {
   "codemirror_mode": {
    "name": "ipython",
    "version": 3
   },
   "file_extension": ".py",
   "mimetype": "text/x-python",
   "name": "python",
   "nbconvert_exporter": "python",
   "pygments_lexer": "ipython3",
   "version": "3.12.7"
  }
 },
 "nbformat": 4,
 "nbformat_minor": 2
}
